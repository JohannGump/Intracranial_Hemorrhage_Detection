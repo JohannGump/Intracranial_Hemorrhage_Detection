{
  "nbformat": 4,
  "nbformat_minor": 0,
  "metadata": {
    "colab": {
      "provenance": []
    },
    "kernelspec": {
      "name": "python3",
      "display_name": "Python 3"
    },
    "language_info": {
      "name": "python"
    }
  },
  "cells": [
    {
      "cell_type": "code",
      "execution_count": null,
      "metadata": {
        "colab": {
          "base_uri": "https://localhost:8080/"
        },
        "id": "l-Eu5Quc_Z_5",
        "outputId": "2783d50e-59e4-461d-c2d9-4e34bef250d3"
      },
      "outputs": [
        {
          "output_type": "stream",
          "name": "stdout",
          "text": [
            "Drive already mounted at /content/drive; to attempt to forcibly remount, call drive.mount(\"/content/drive\", force_remount=True).\n"
          ]
        }
      ],
      "source": [
        "from google.colab import drive\n",
        "drive.mount('/content/drive')"
      ]
    },
    {
      "cell_type": "code",
      "source": [
        "import numpy as np \n",
        "import pandas as pd\n",
        "from numpy import load\n",
        "\n",
        "import matplotlib.pyplot as plt\n",
        "from matplotlib import cm \n",
        "%matplotlib inline\n",
        "\n",
        "from sklearn.model_selection import train_test_split\n",
        "\n",
        "from tensorflow.keras import regularizers\n",
        "from tensorflow.keras.utils import to_categorical\n",
        "from tensorflow.keras.models import Model, Sequential\n",
        "from tensorflow.keras.layers import Input, Dense, Dropout, Flatten, Conv2D, MaxPooling2D, GlobalAveragePooling2D\n",
        "from tensorflow.keras.optimizers import Adam\n",
        "from tensorflow.keras.optimizers import Adam\n",
        "import tensorflow as tf\n",
        "tf.config.experimental_run_functions_eagerly(True)\n",
        "import keras\n",
        "\n",
        "import time, cv2\n",
        "\n",
        "from tensorflow.keras.preprocessing.image import ImageDataGenerator\n",
        "from tensorflow.keras.applications.efficientnet import preprocess_input\n",
        "\n",
        "\n",
        "from tensorflow.keras.applications.vgg16 import VGG16\n",
        "from tensorflow.keras.applications.efficientnet import EfficientNetB3\n",
        "\n",
        "from tensorflow.keras.callbacks import Callback\n",
        "from timeit import default_timer as timer\n",
        "\n",
        "import itertools\n",
        "\n",
        "from sklearn import metrics\n",
        "\n",
        "import seaborn as sns"
      ],
      "metadata": {
        "id": "UZYf9WKS_nDT"
      },
      "execution_count": null,
      "outputs": []
    },
    {
      "cell_type": "code",
      "source": [
        "#chargement de X_brain et y_brain\n",
        "np.load.__defaults__=(None, True, True, 'ASCII')\n",
        "\n",
        "X_brain= load('/content/drive/My Drive/Colab_outputs/X_brain_150.npy')\n",
        "y_brain = load('/content/drive/My Drive/Colab_outputs/y_brain.npy')\n",
        "\n",
        "indices = list(range(0,len(y_brain)))\n",
        "\n",
        "# Shape de X_brain et y_brain\n",
        "print('Shape of X:', X_brain.shape)\n",
        "print('Shape of y:',y_brain.shape)"
      ],
      "metadata": {
        "colab": {
          "base_uri": "https://localhost:8080/"
        },
        "id": "X5HSUvZv_qIT",
        "outputId": "f5da04c1-1d54-4b2d-dca0-b44f9641c1a5"
      },
      "execution_count": null,
      "outputs": [
        {
          "output_type": "stream",
          "name": "stdout",
          "text": [
            "Shape of X: (2501, 150, 150, 3)\n",
            "Shape of y: (2501,)\n"
          ]
        }
      ]
    },
    {
      "cell_type": "code",
      "source": [
        "### split des données ###\n",
        "\n",
        "X_train, X_test, y_train, y_test, indices_train, indices_test = train_test_split(X_brain, y_brain, indices, test_size=0.2, random_state=123)\n",
        "\n",
        "np.save('/content/drive/My Drive/Colab_outputs/X_train_lenet.npy', X_train)\n",
        "np.save('/content/drive/My Drive/Colab_outputs/X_test_lenet.npy', X_test)\n",
        "np.save('/content/drive/My Drive/Colab_outputs/y_train_lenet.npy', y_train)\n",
        "np.save('/content/drive/My Drive/Colab_outputs/y_test_lenet.npy', y_test)\n",
        "np.save('/content/drive/My Drive/Colab_outputs/indices_test_lenet.npy', indices_test)\n",
        "np.save('/content/drive/My Drive/Colab_outputs/indices_train_lenet.npy', indices_train)\n",
        "\n",
        "# Shape de X_train et y_train\n",
        "print('Shape of X:', X_train.shape)\n",
        "print('Shape of y:',y_train.shape)"
      ],
      "metadata": {
        "colab": {
          "base_uri": "https://localhost:8080/"
        },
        "id": "vxgbWpKC_uWU",
        "outputId": "e7e1936b-13d0-49cc-8666-1b37f16e69cd"
      },
      "execution_count": null,
      "outputs": [
        {
          "output_type": "stream",
          "name": "stdout",
          "text": [
            "Shape of X: (2000, 150, 150, 3)\n",
            "Shape of y: (2000,)\n"
          ]
        }
      ]
    },
    {
      "cell_type": "code",
      "source": [
        "# valeurs comprises entre 0 et 1 et transformation en vecteurs catégoriels binaires\n",
        "\n",
        "X_train = X_train/255\n",
        "X_test = X_test/255"
      ],
      "metadata": {
        "id": "7OVAkk1vAP_z"
      },
      "execution_count": null,
      "outputs": []
    },
    {
      "cell_type": "code",
      "source": [
        "pip install tensorflow-addons"
      ],
      "metadata": {
        "colab": {
          "base_uri": "https://localhost:8080/"
        },
        "id": "njrq0s5GATTH",
        "outputId": "620d553a-9501-41e0-8297-2b5879339b92"
      },
      "execution_count": null,
      "outputs": [
        {
          "output_type": "stream",
          "name": "stdout",
          "text": [
            "Looking in indexes: https://pypi.org/simple, https://us-python.pkg.dev/colab-wheels/public/simple/\n",
            "Collecting tensorflow-addons\n",
            "  Downloading tensorflow_addons-0.19.0-cp38-cp38-manylinux_2_17_x86_64.manylinux2014_x86_64.whl (1.1 MB)\n",
            "\u001b[2K     \u001b[90m━━━━━━━━━━━━━━━━━━━━━━━━━━━━━━━━━━━━━━━━\u001b[0m \u001b[32m1.1/1.1 MB\u001b[0m \u001b[31m16.7 MB/s\u001b[0m eta \u001b[36m0:00:00\u001b[0m\n",
            "\u001b[?25hRequirement already satisfied: typeguard>=2.7 in /usr/local/lib/python3.8/dist-packages (from tensorflow-addons) (2.7.1)\n",
            "Requirement already satisfied: packaging in /usr/local/lib/python3.8/dist-packages (from tensorflow-addons) (23.0)\n",
            "Installing collected packages: tensorflow-addons\n",
            "Successfully installed tensorflow-addons-0.19.0\n"
          ]
        }
      ]
    },
    {
      "cell_type": "code",
      "source": [
        "import tensorflow_addons as tfa\n",
        "fl = tfa.losses.SigmoidFocalCrossEntropy()"
      ],
      "metadata": {
        "id": "U6fANIXVAX24"
      },
      "execution_count": null,
      "outputs": []
    },
    {
      "cell_type": "code",
      "source": [
        "def focal_loss_custom(alpha, gamma):\n",
        "   def binary_focal_loss(y_true, y_pred):\n",
        "      fl = tfa.losses.SigmoidFocalCrossEntropy(alpha=alpha, gamma=gamma)\n",
        "      y_true_K = K.ones_like(y_true)\n",
        "      focal_loss = fl(y_true, y_pred)\n",
        "      return focal_loss\n",
        "   return binary_focal_loss"
      ],
      "metadata": {
        "id": "aPciWwqmAa1s"
      },
      "execution_count": null,
      "outputs": []
    },
    {
      "cell_type": "code",
      "source": [
        "## Réseau de Neurones Convolutif LeNet5\n",
        "\n",
        "inputs = Input(shape = X_train[0,...].shape)\n",
        "layer1 = Conv2D(filters = 30, kernel_size = (5, 5), padding = 'valid', activation = 'relu')\n",
        "layer2 = MaxPooling2D(pool_size=(2,2))\n",
        "layer3 = Conv2D(filters = 16, kernel_size = (3, 3), padding = 'valid', activation = 'relu')\n",
        "layer4 = MaxPooling2D(pool_size=(2,2))\n",
        "layer5 = Dropout(rate = 0.2)\n",
        "layer6 = Flatten()\n",
        "layer7 = Dense(units=128, activation = 'relu')\n",
        "output_layer = Dense(units=1, activation = 'sigmoid')\n",
        "\n",
        "x = layer1(inputs)\n",
        "x = layer2(x)\n",
        "x = layer3(x)\n",
        "x = layer4(x)\n",
        "x = layer5(x)\n",
        "x = layer6(x)\n",
        "x = layer7(x)\n",
        "outputs = output_layer(x)\n",
        "\n",
        "model = Model(inputs = inputs, outputs = outputs)\n",
        "\n",
        "model.compile(loss = focal_loss_custom(alpha=0.7, gamma=2.0),\n",
        "              optimizer = \"adam\",\n",
        "              metrics = [\"accuracy\"])"
      ],
      "metadata": {
        "id": "TPra9EV9AeIR"
      },
      "execution_count": null,
      "outputs": []
    },
    {
      "cell_type": "code",
      "source": [
        "model.summary()"
      ],
      "metadata": {
        "colab": {
          "base_uri": "https://localhost:8080/"
        },
        "id": "J8-qGP9iAhb8",
        "outputId": "db261948-1d65-446a-f882-0bafc020b17a"
      },
      "execution_count": null,
      "outputs": [
        {
          "output_type": "stream",
          "name": "stdout",
          "text": [
            "Model: \"model\"\n",
            "_________________________________________________________________\n",
            " Layer (type)                Output Shape              Param #   \n",
            "=================================================================\n",
            " input_1 (InputLayer)        [(None, 150, 150, 3)]     0         \n",
            "                                                                 \n",
            " conv2d (Conv2D)             (None, 146, 146, 30)      2280      \n",
            "                                                                 \n",
            " max_pooling2d (MaxPooling2D  (None, 73, 73, 30)       0         \n",
            " )                                                               \n",
            "                                                                 \n",
            " conv2d_1 (Conv2D)           (None, 71, 71, 16)        4336      \n",
            "                                                                 \n",
            " max_pooling2d_1 (MaxPooling  (None, 35, 35, 16)       0         \n",
            " 2D)                                                             \n",
            "                                                                 \n",
            " dropout (Dropout)           (None, 35, 35, 16)        0         \n",
            "                                                                 \n",
            " flatten (Flatten)           (None, 19600)             0         \n",
            "                                                                 \n",
            " dense (Dense)               (None, 128)               2508928   \n",
            "                                                                 \n",
            " dense_1 (Dense)             (None, 1)                 129       \n",
            "                                                                 \n",
            "=================================================================\n",
            "Total params: 2,515,673\n",
            "Trainable params: 2,515,673\n",
            "Non-trainable params: 0\n",
            "_________________________________________________________________\n"
          ]
        }
      ]
    },
    {
      "cell_type": "code",
      "source": [
        "from tensorflow.keras.callbacks import EarlyStopping, ReduceLROnPlateau, ModelCheckpoint\n",
        "from keras import backend as K\n",
        "\n",
        "EPOCHS = 16\n",
        "\n",
        "# EarlyStopping qui suit la valeur val_loss, arrête l'entraînement s'il n'y a pas de changement vers val_loss après 3 époques et conserve les meilleurs poids une fois que l'entraînement s'arrête\n",
        "early_stopping = EarlyStopping(monitor = 'val_loss',\n",
        "                    min_delta = 0.001,\n",
        "                    mode = 'min',\n",
        "                    patience = 5,\n",
        "                    verbose = 1,\n",
        "                    restore_best_weights = True)\n",
        "\n",
        "#ReduceLROnPlateau qui suit la métrique val_loss, divise le coefficient d'apprentissage par 2 si au bout de 3 epochs, val_loss n'a pas varié de 0.01. \n",
        "#On attribue une pause de 2 epochs entre 2 cycles\n",
        "reduce_learning_rate = ReduceLROnPlateau(monitor = 'val_loss',\n",
        "                        min_delta = 0.01,\n",
        "                        patience = 5,\n",
        "                        factor = 0.5, \n",
        "                        cooldown = 2,\n",
        "                        verbose = 1)\n",
        "\n",
        "# save the best model\n",
        "checkpoint_filepath = 'Documents/projet-hemorragie/data-source/outputs/tmp/best-cnn-focal'\n",
        "\n",
        "model_checkpoint = ModelCheckpoint(\n",
        "                        filepath=checkpoint_filepath,\n",
        "                        save_weights_only=True,\n",
        "                        monitor='val_accuracy',\n",
        "                        mode='max',\n",
        "                        save_best_only=True)\n",
        "\n",
        "from sklearn.utils import class_weight\n",
        "\n",
        "class_weights = class_weight.compute_class_weight(class_weight = 'balanced',\n",
        "                                                 classes = np.unique(y_train),\n",
        "                                                 y = y_train)\n",
        "class_weights = {i:w for i,w in enumerate(class_weights)}\n",
        "\n",
        "training_history_lenet = model.fit(X_train, \n",
        "                                     y_train, epochs = EPOCHS, \n",
        "                                     batch_size = 200, \n",
        "                                     validation_split = 0.2, \n",
        "                                     #callbacks=[reduce_learning_rate, early_stopping], \n",
        "                                     class_weight=class_weights)\n",
        "\n",
        "# The model weights (that are considered the best) are loaded into the model\n",
        "#model.load_weights(checkpoint_filepath)"
      ],
      "metadata": {
        "colab": {
          "base_uri": "https://localhost:8080/"
        },
        "id": "Oa7ZiG1jAlHo",
        "outputId": "305e581b-dcb4-4b16-91c5-cc35fd2415e6"
      },
      "execution_count": null,
      "outputs": [
        {
          "output_type": "stream",
          "name": "stderr",
          "text": [
            "/usr/local/lib/python3.8/dist-packages/tensorflow/python/data/ops/structured_function.py:256: UserWarning: Even though the `tf.config.experimental_run_functions_eagerly` option is set, this option does not apply to tf.data functions. To force eager execution of tf.data functions, please use `tf.data.experimental.enable_debug_mode()`.\n",
            "  warnings.warn(\n"
          ]
        },
        {
          "output_type": "stream",
          "name": "stdout",
          "text": [
            "Epoch 1/16\n",
            "8/8 [==============================] - 94s 11s/step - loss: 0.2747 - accuracy: 0.4588 - val_loss: 0.1574 - val_accuracy: 0.1325\n",
            "Epoch 2/16\n",
            "8/8 [==============================] - 76s 10s/step - loss: 0.0757 - accuracy: 0.2144 - val_loss: 0.0598 - val_accuracy: 0.5650\n",
            "Epoch 3/16\n",
            "8/8 [==============================] - 83s 10s/step - loss: 0.0636 - accuracy: 0.6381 - val_loss: 0.0631 - val_accuracy: 0.5975\n",
            "Epoch 4/16\n",
            "8/8 [==============================] - 81s 10s/step - loss: 0.0509 - accuracy: 0.6594 - val_loss: 0.0724 - val_accuracy: 0.5525\n",
            "Epoch 5/16\n",
            "8/8 [==============================] - 80s 10s/step - loss: 0.0422 - accuracy: 0.7231 - val_loss: 0.0399 - val_accuracy: 0.7775\n",
            "Epoch 6/16\n",
            "8/8 [==============================] - 76s 9s/step - loss: 0.0330 - accuracy: 0.7831 - val_loss: 0.0385 - val_accuracy: 0.8200\n",
            "Epoch 7/16\n",
            "8/8 [==============================] - 76s 9s/step - loss: 0.0249 - accuracy: 0.8444 - val_loss: 0.0428 - val_accuracy: 0.7825\n",
            "Epoch 8/16\n",
            "8/8 [==============================] - 81s 10s/step - loss: 0.0194 - accuracy: 0.8794 - val_loss: 0.0351 - val_accuracy: 0.8675\n",
            "Epoch 9/16\n",
            "8/8 [==============================] - 76s 10s/step - loss: 0.0147 - accuracy: 0.9287 - val_loss: 0.0349 - val_accuracy: 0.8775\n",
            "Epoch 10/16\n",
            "8/8 [==============================] - 84s 10s/step - loss: 0.0120 - accuracy: 0.9325 - val_loss: 0.0387 - val_accuracy: 0.8500\n",
            "Epoch 11/16\n",
            "8/8 [==============================] - 75s 9s/step - loss: 0.0103 - accuracy: 0.9431 - val_loss: 0.0324 - val_accuracy: 0.9025\n",
            "Epoch 12/16\n",
            "8/8 [==============================] - 85s 11s/step - loss: 0.0076 - accuracy: 0.9531 - val_loss: 0.0338 - val_accuracy: 0.9275\n",
            "Epoch 13/16\n",
            "8/8 [==============================] - 75s 9s/step - loss: 0.0055 - accuracy: 0.9650 - val_loss: 0.0341 - val_accuracy: 0.9375\n",
            "Epoch 14/16\n",
            "8/8 [==============================] - 75s 9s/step - loss: 0.0042 - accuracy: 0.9781 - val_loss: 0.0375 - val_accuracy: 0.9425\n",
            "Epoch 15/16\n",
            "8/8 [==============================] - 80s 10s/step - loss: 0.0032 - accuracy: 0.9875 - val_loss: 0.0404 - val_accuracy: 0.9450\n",
            "Epoch 16/16\n",
            "8/8 [==============================] - 77s 10s/step - loss: 0.0026 - accuracy: 0.9912 - val_loss: 0.0378 - val_accuracy: 0.9450\n"
          ]
        }
      ]
    },
    {
      "cell_type": "code",
      "source": [
        "#model.save('/content/drive/My Drive/Colab_outputs/Lenet-FL-3.h5')\n",
        "model.save('/content/drive/My Drive/Colab_outputs/Lenet-FL-Last.h5', include_optimizer=False)"
      ],
      "metadata": {
        "id": "BHU2YbTIAouJ"
      },
      "execution_count": null,
      "outputs": []
    },
    {
      "cell_type": "code",
      "source": [
        "train_acc = training_history_lenet.history['accuracy']\n",
        "val_acc = training_history_lenet.history['val_accuracy']\n",
        "train_loss = training_history_lenet.history['loss']\n",
        "val_loss = training_history_lenet.history['val_loss']"
      ],
      "metadata": {
        "id": "Mjz-5OtHAtVK"
      },
      "execution_count": null,
      "outputs": []
    },
    {
      "cell_type": "code",
      "source": [
        "# Labels des axes\n",
        "plt.xlabel('Epochs')\n",
        "plt.ylabel('Accuracy')\n",
        "\n",
        "# Courbe de la précision sur l'échantillon d'entrainement\n",
        "plt.plot(np.arange(1 , len(train_acc)+1, 1),\n",
        "         train_acc,\n",
        "         label = 'Training Accuracy',\n",
        "         color = 'blue')\n",
        "\n",
        "# Courbe de la précision sur l'échantillon de test\n",
        "plt.plot(np.arange(1 , len(val_acc)+1, 1),\n",
        "         val_acc, \n",
        "         label = 'Validation Accuracy',\n",
        "         color = 'red')\n",
        "\n",
        "# Affichage de la légende\n",
        "plt.legend()\n",
        "\n",
        "# Affichage de la figure\n",
        "plt.show()"
      ],
      "metadata": {
        "colab": {
          "base_uri": "https://localhost:8080/"
        },
        "id": "fXckNeWYAxLc",
        "outputId": "5e0404c2-8d88-4e4f-d256-9683901ea22e"
      },
      "execution_count": null,
      "outputs": [
        {
          "output_type": "display_data",
          "data": {
            "text/plain": [
              "<Figure size 432x288 with 1 Axes>"
            ],
            "image/png": "[encoded data removed]"
          },
          "metadata": {
            "needs_background": "light"
          }
        }
      ]
    },
    {
      "cell_type": "code",
      "source": [
        "#prediction \n",
        "test_pred = model.predict(X_test)\n",
        "\n",
        "test_pred_class = []\n",
        "\n",
        "for i in test_pred[:,0]:\n",
        "    if i > 0.5:\n",
        "        test_pred_class.append(1)\n",
        "    else:\n",
        "        test_pred_class.append(0)"
      ],
      "metadata": {
        "colab": {
          "base_uri": "https://localhost:8080/"
        },
        "id": "j1vWUtiMA0lz",
        "outputId": "d750a57e-7387-4892-eddd-556c55bb4d5c"
      },
      "execution_count": null,
      "outputs": [
        {
          "output_type": "stream",
          "name": "stdout",
          "text": [
            "16/16 [==============================] - 8s 476ms/step\n"
          ]
        }
      ]
    },
    {
      "cell_type": "code",
      "source": [
        "test_pred_array = np.array(test_pred_class)\n",
        "pd.crosstab(y_test, test_pred_array, rownames=['Classe réelle'], colnames=['Classe prédite'])"
      ],
      "metadata": {
        "colab": {
          "base_uri": "https://localhost:8080/"
        },
        "id": "imMVp_oqA3m3",
        "outputId": "8176fe33-6f7b-4280-ce6a-eec28cd813fc"
      },
      "execution_count": null,
      "outputs": [
        {
          "output_type": "execute_result",
          "data": {
            "text/plain": [
              "Classe prédite    0   1\n",
              "Classe réelle          \n",
              "0               415  26\n",
              "1                 7  53"
            ],
            "text/html": [
              "\n",
              "  <div id=\"df-f4eeaba2-5a00-4a50-9cfd-1369af4cd1ba\">\n",
              "    <div class=\"colab-df-container\">\n",
              "      <div>\n",
              "<style scoped>\n",
              "    .dataframe tbody tr th:only-of-type {\n",
              "        vertical-align: middle;\n",
              "    }\n",
              "\n",
              "    .dataframe tbody tr th {\n",
              "        vertical-align: top;\n",
              "    }\n",
              "\n",
              "    .dataframe thead th {\n",
              "        text-align: right;\n",
              "    }\n",
              "</style>\n",
              "<table border=\"1\" class=\"dataframe\">\n",
              "  <thead>\n",
              "    <tr style=\"text-align: right;\">\n",
              "      <th>Classe prédite</th>\n",
              "      <th>0</th>\n",
              "      <th>1</th>\n",
              "    </tr>\n",
              "    <tr>\n",
              "      <th>Classe réelle</th>\n",
              "      <th></th>\n",
              "      <th></th>\n",
              "    </tr>\n",
              "  </thead>\n",
              "  <tbody>\n",
              "    <tr>\n",
              "      <th>0</th>\n",
              "      <td>415</td>\n",
              "      <td>26</td>\n",
              "    </tr>\n",
              "    <tr>\n",
              "      <th>1</th>\n",
              "      <td>7</td>\n",
              "      <td>53</td>\n",
              "    </tr>\n",
              "  </tbody>\n",
              "</table>\n",
              "</div>\n",
              "      <button class=\"colab-df-convert\" onclick=\"convertToInteractive('df-f4eeaba2-5a00-4a50-9cfd-1369af4cd1ba')\"\n",
              "              title=\"Convert this dataframe to an interactive table.\"\n",
              "              style=\"display:none;\">\n",
              "        \n",
              "  <svg xmlns=\"http://www.w3.org/2000/svg\" height=\"24px\"viewBox=\"0 0 24 24\"\n",
              "       width=\"24px\">\n",
              "    <path d=\"M0 0h24v24H0V0z\" fill=\"none\"/>\n",
              "    <path d=\"M18.56 5.44l.94 2.06.94-2.06 2.06-.94-2.06-.94-.94-2.06-.94 2.06-2.06.94zm-11 1L8.5 8.5l.94-2.06 2.06-.94-2.06-.94L8.5 2.5l-.94 2.06-2.06.94zm10 10l.94 2.06.94-2.06 2.06-.94-2.06-.94-.94-2.06-.94 2.06-2.06.94z\"/><path d=\"M17.41 7.96l-1.37-1.37c-.4-.4-.92-.59-1.43-.59-.52 0-1.04.2-1.43.59L10.3 9.45l-7.72 7.72c-.78.78-.78 2.05 0 2.83L4 21.41c.39.39.9.59 1.41.59.51 0 1.02-.2 1.41-.59l7.78-7.78 2.81-2.81c.8-.78.8-2.07 0-2.86zM5.41 20L4 18.59l7.72-7.72 1.47 1.35L5.41 20z\"/>\n",
              "  </svg>\n",
              "      </button>\n",
              "      \n",
              "  <style>\n",
              "    .colab-df-container {\n",
              "      display:flex;\n",
              "      flex-wrap:wrap;\n",
              "      gap: 12px;\n",
              "    }\n",
              "\n",
              "    .colab-df-convert {\n",
              "      background-color: #E8F0FE;\n",
              "      border: none;\n",
              "      border-radius: 50%;\n",
              "      cursor: pointer;\n",
              "      display: none;\n",
              "      fill: #1967D2;\n",
              "      height: 32px;\n",
              "      padding: 0 0 0 0;\n",
              "      width: 32px;\n",
              "    }\n",
              "\n",
              "    .colab-df-convert:hover {\n",
              "      background-color: #E2EBFA;\n",
              "      box-shadow: 0px 1px 2px rgba(60, 64, 67, 0.3), 0px 1px 3px 1px rgba(60, 64, 67, 0.15);\n",
              "      fill: #174EA6;\n",
              "    }\n",
              "\n",
              "    [theme=dark] .colab-df-convert {\n",
              "      background-color: #3B4455;\n",
              "      fill: #D2E3FC;\n",
              "    }\n",
              "\n",
              "    [theme=dark] .colab-df-convert:hover {\n",
              "      background-color: #434B5C;\n",
              "      box-shadow: 0px 1px 3px 1px rgba(0, 0, 0, 0.15);\n",
              "      filter: drop-shadow(0px 1px 2px rgba(0, 0, 0, 0.3));\n",
              "      fill: #FFFFFF;\n",
              "    }\n",
              "  </style>\n",
              "\n",
              "      <script>\n",
              "        const buttonEl =\n",
              "          document.querySelector('#df-f4eeaba2-5a00-4a50-9cfd-1369af4cd1ba button.colab-df-convert');\n",
              "        buttonEl.style.display =\n",
              "          google.colab.kernel.accessAllowed ? 'block' : 'none';\n",
              "\n",
              "        async function convertToInteractive(key) {\n",
              "          const element = document.querySelector('#df-f4eeaba2-5a00-4a50-9cfd-1369af4cd1ba');\n",
              "          const dataTable =\n",
              "            await google.colab.kernel.invokeFunction('convertToInteractive',\n",
              "                                                     [key], {});\n",
              "          if (!dataTable) return;\n",
              "\n",
              "          const docLinkHtml = 'Like what you see? Visit the ' +\n",
              "            '<a target=\"_blank\" href=https://colab.research.google.com/notebooks/data_table.ipynb>data table notebook</a>'\n",
              "            + ' to learn more about interactive tables.';\n",
              "          element.innerHTML = '';\n",
              "          dataTable['output_type'] = 'display_data';\n",
              "          await google.colab.output.renderOutput(dataTable, element);\n",
              "          const docLink = document.createElement('div');\n",
              "          docLink.innerHTML = docLinkHtml;\n",
              "          element.appendChild(docLink);\n",
              "        }\n",
              "      </script>\n",
              "    </div>\n",
              "  </div>\n",
              "  "
            ]
          },
          "metadata": {},
          "execution_count": 31
        }
      ]
    },
    {
      "cell_type": "code",
      "source": [
        "#classification\n",
        "from imblearn.metrics import classification_report_imbalanced, geometric_mean_score\n",
        "\n",
        "print(classification_report_imbalanced(y_test, test_pred_class))"
      ],
      "metadata": {
        "colab": {
          "base_uri": "https://localhost:8080/"
        },
        "id": "xLPKJtESA7Zz",
        "outputId": "0d82f4e1-906f-4392-f15f-9c17132ab2b7"
      },
      "execution_count": null,
      "outputs": [
        {
          "output_type": "stream",
          "name": "stdout",
          "text": [
            "                   pre       rec       spe        f1       geo       iba       sup\n",
            "\n",
            "          0       0.98      0.94      0.88      0.96      0.91      0.84       441\n",
            "          1       0.67      0.88      0.94      0.76      0.91      0.83        60\n",
            "\n",
            "avg / total       0.95      0.93      0.89      0.94      0.91      0.83       501\n",
            "\n"
          ]
        }
      ]
    },
    {
      "cell_type": "code",
      "source": [
        "model = keras.models.load_model('/content/drive/My Drive/Colab_outputs/Lenet-FL-4.h5')"
      ],
      "metadata": {
        "colab": {
          "base_uri": "https://localhost:8080/"
        },
        "id": "oK3hxcEEBA72",
        "outputId": "f0c87af6-146d-4ade-fdad-11615dc6e563"
      },
      "execution_count": null,
      "outputs": [
        {
          "output_type": "stream",
          "name": "stderr",
          "text": [
            "WARNING:tensorflow:No training configuration found in the save file, so the model was *not* compiled. Compile it manually.\n"
          ]
        }
      ]
    },
    {
      "cell_type": "code",
      "source": [
        "test_pred = model.predict(X_test)\n",
        "\n",
        "test_pred_class = []\n",
        "\n",
        "for i in test_pred[:,0]:\n",
        "    if i > 0.5:\n",
        "        test_pred_class.append(1)\n",
        "    else:\n",
        "        test_pred_class.append(0)"
      ],
      "metadata": {
        "colab": {
          "base_uri": "https://localhost:8080/"
        },
        "id": "7Cr8QFW7BEpI",
        "outputId": "7c08965d-0031-4416-9543-42003a723b16"
      },
      "execution_count": null,
      "outputs": [
        {
          "output_type": "stream",
          "name": "stderr",
          "text": [
            "/usr/local/lib/python3.8/dist-packages/tensorflow/python/data/ops/structured_function.py:256: UserWarning: Even though the `tf.config.experimental_run_functions_eagerly` option is set, this option does not apply to tf.data functions. To force eager execution of tf.data functions, please use `tf.data.experimental.enable_debug_mode()`.\n",
            "  warnings.warn(\n"
          ]
        },
        {
          "output_type": "stream",
          "name": "stdout",
          "text": [
            "16/16 [==============================] - 5s 340ms/step\n"
          ]
        }
      ]
    },
    {
      "cell_type": "code",
      "source": [
        "print(test_pred[:,0])"
      ],
      "metadata": {
        "colab": {
          "base_uri": "https://localhost:8080/"
        },
        "id": "lBJ6PRPC-x4e",
        "outputId": "5b26f2c1-d7e1-44f1-a19e-6bdbdc656896"
      },
      "execution_count": null,
      "outputs": [
        {
          "output_type": "stream",
          "name": "stdout",
          "text": [
            "[2.83406442e-03 2.33883616e-02 6.29168749e-02 6.34760112e-02\n",
            " 1.55986071e-01 6.93855956e-02 4.30036707e-05 4.34048660e-02\n",
            " 3.75805199e-02 6.25951737e-02 1.55161670e-03 2.35395223e-01\n",
            " 9.08402026e-01 6.16770284e-03 3.86107014e-03 2.06334412e-01\n",
            " 4.46080804e-01 1.20266914e-01 1.07802055e-03 3.48719768e-05\n",
            " 1.05768726e-04 3.04248044e-03 7.99301080e-03 7.73990393e-01\n",
            " 4.19972866e-06 1.20182067e-01 8.51851031e-02 1.13001829e-02\n",
            " 2.15845270e-04 1.01974851e-03 9.54454064e-01 2.49429839e-04\n",
            " 7.81673566e-03 7.77971931e-03 1.48966163e-01 9.08207744e-02\n",
            " 8.39696050e-01 9.51999664e-01 3.71630231e-05 1.11154011e-04\n",
            " 5.05916658e-04 3.24226141e-01 1.93537140e-04 2.49630123e-01\n",
            " 3.94003605e-03 4.81303483e-02 1.42386898e-01 8.88640046e-01\n",
            " 8.65545869e-03 4.45731159e-04 3.82028371e-02 1.88264214e-02\n",
            " 1.63874686e-01 8.24367046e-01 9.71806294e-05 3.67090618e-03\n",
            " 6.70522511e-01 4.47671860e-01 7.84586358e-04 2.56780893e-01\n",
            " 5.47376610e-02 3.47511820e-03 4.95777131e-05 4.06155537e-04\n",
            " 7.04312563e-01 4.07798067e-02 1.75170571e-04 3.61641385e-02\n",
            " 2.39995611e-03 1.09225133e-04 7.91185070e-04 8.09599151e-05\n",
            " 6.02290154e-01 5.82208991e-01 2.15767547e-01 3.46019492e-02\n",
            " 1.91922650e-01 1.02534452e-02 1.87900368e-05 1.66157272e-03\n",
            " 2.55853444e-01 9.71669306e-06 1.53860096e-02 2.94489553e-04\n",
            " 3.49236161e-01 3.57475784e-03 1.04816165e-03 5.97982726e-05\n",
            " 2.47914612e-01 8.70106578e-01 6.46669388e-01 6.32571828e-05\n",
            " 2.07435474e-01 1.05793646e-03 8.77641261e-01 1.70767948e-01\n",
            " 3.19373965e-01 4.72446233e-02 6.41686097e-02 3.78164798e-02\n",
            " 4.14941251e-01 1.37516193e-03 3.35423619e-01 5.41981220e-01\n",
            " 1.19651601e-01 2.92288791e-02 4.44910079e-01 5.31448901e-01\n",
            " 3.41239832e-02 1.71851575e-01 5.32483275e-04 5.63794374e-01\n",
            " 7.39744282e-04 5.78649461e-01 7.45809555e-01 3.22134763e-01\n",
            " 7.87412152e-02 1.57775745e-01 4.46455051e-05 7.77845919e-01\n",
            " 4.58322093e-02 9.06923786e-02 1.93813249e-01 1.84682212e-04\n",
            " 7.48017192e-01 9.39596117e-01 3.19714248e-02 1.36486092e-03\n",
            " 4.00101235e-05 4.71749380e-02 8.43540013e-01 3.40531231e-03\n",
            " 4.63115903e-05 1.52934432e-01 1.20041624e-01 3.00653605e-03\n",
            " 9.16035235e-01 6.83597624e-02 2.08239704e-01 9.53736544e-01\n",
            " 5.07243164e-02 7.16995122e-03 2.20566080e-03 9.72858816e-02\n",
            " 2.80027628e-01 5.95709383e-02 5.54973148e-02 1.25625081e-06\n",
            " 2.09767459e-04 8.47606957e-02 1.77644833e-03 9.52578634e-02\n",
            " 1.06246667e-02 8.53784904e-02 7.38825500e-02 9.87501908e-03\n",
            " 7.66039491e-01 7.79634416e-02 2.26875544e-01 7.66552519e-04\n",
            " 6.80890753e-06 3.44517343e-02 9.07781422e-01 1.00589678e-01\n",
            " 6.85870424e-02 8.74175608e-01 2.74844132e-02 2.61372770e-03\n",
            " 4.62676376e-01 5.18961204e-03 3.08811605e-06 6.00053445e-02\n",
            " 3.72623280e-02 7.63300359e-01 6.83113904e-05 6.93933010e-01\n",
            " 3.13966684e-02 5.50401211e-03 1.86192378e-01 3.09944327e-04\n",
            " 7.91042089e-01 9.53716412e-02 3.25880758e-02 9.69498046e-03\n",
            " 8.07408929e-01 1.82515889e-01 1.16781548e-01 2.00894326e-01\n",
            " 1.63101852e-01 6.53840043e-03 7.67795384e-01 3.14179473e-02\n",
            " 4.46803808e-01 4.55912814e-05 1.38963729e-01 1.48940891e-01\n",
            " 2.28011534e-02 7.93196559e-01 2.45919600e-01 8.59886527e-01\n",
            " 1.04350026e-03 8.21440697e-01 1.34201590e-02 1.79020390e-01\n",
            " 9.25744593e-01 4.93400656e-02 1.02356935e-04 6.48504915e-03\n",
            " 1.97517350e-02 1.06610160e-03 1.29606044e-02 4.95867193e-01\n",
            " 8.21579933e-01 1.03472479e-01 7.13587224e-01 4.00616899e-02\n",
            " 7.32183814e-01 9.13566291e-01 2.20227942e-01 1.05914280e-01\n",
            " 5.05669648e-03 3.34030539e-02 2.56792782e-03 8.24068666e-01\n",
            " 1.39551848e-05 1.90247840e-04 2.53342330e-01 4.93624598e-01\n",
            " 1.80462340e-03 4.21564072e-01 8.98039937e-02 2.61080384e-01\n",
            " 6.84685051e-01 8.08058679e-01 3.02881399e-05 5.93043491e-02\n",
            " 1.81779891e-01 7.95566499e-01 3.08125699e-03 6.06767833e-01\n",
            " 1.33217946e-02 5.43323874e-01 1.29516225e-03 7.72702927e-03\n",
            " 5.90670295e-03 7.74841011e-02 1.30409583e-01 3.19941924e-03\n",
            " 1.31187588e-02 8.98027956e-01 5.77030741e-02 1.29759490e-01\n",
            " 2.19405219e-01 6.14875974e-03 9.37011600e-01 2.04341095e-02\n",
            " 6.34436458e-02 9.30593252e-01 3.66073877e-01 1.61771488e-04\n",
            " 5.16948700e-01 6.02734333e-04 7.00252652e-01 5.57110012e-01\n",
            " 9.20948446e-01 1.53008150e-02 2.22290237e-03 7.77792707e-02\n",
            " 4.17399742e-02 1.28498417e-03 2.62897938e-01 2.89764643e-01\n",
            " 1.63318228e-03 4.40056174e-04 9.24165070e-01 8.61177221e-04\n",
            " 1.58201810e-02 3.32133323e-02 8.82526696e-01 7.50401244e-03\n",
            " 7.53495004e-03 9.01755644e-04 8.32403824e-02 3.57421493e-04\n",
            " 8.20269883e-01 4.66615148e-02 9.64880892e-05 2.20306218e-04\n",
            " 5.29125482e-02 4.58866417e-01 8.98820341e-01 5.30781075e-02\n",
            " 1.71778277e-02 9.31844115e-02 1.32343767e-03 5.85459347e-04\n",
            " 1.09851814e-03 5.32241404e-01 6.07680380e-02 1.68694911e-04\n",
            " 7.62447178e-01 1.16101652e-02 1.57778084e-01 1.86258629e-01\n",
            " 8.21771920e-01 7.41256913e-03 5.21295190e-01 1.00418343e-03\n",
            " 1.60995200e-02 4.07279581e-01 6.88197076e-07 7.71668196e-01\n",
            " 6.94351795e-04 1.41092286e-01 1.30483761e-01 9.33823586e-01\n",
            " 5.38549066e-01 2.91717295e-02 5.83011091e-01 4.08991036e-05\n",
            " 5.95191307e-03 7.71986670e-04 5.23109429e-06 1.94856316e-01\n",
            " 9.68106836e-02 1.27017483e-01 5.63902371e-02 7.58878959e-05\n",
            " 9.92338777e-01 3.38491499e-01 3.15270722e-01 1.20862439e-01\n",
            " 2.31942803e-01 7.64062703e-01 1.65693530e-06 5.45856476e-01\n",
            " 5.38090197e-03 4.55016553e-01 2.42978260e-02 2.95131886e-03\n",
            " 3.12709063e-02 5.17839938e-02 2.57885605e-01 7.15335459e-03\n",
            " 5.24075795e-03 1.23364897e-02 7.63407528e-01 1.35581970e-01\n",
            " 1.21674098e-01 2.43146613e-01 8.16354379e-02 1.78881892e-04\n",
            " 1.16587346e-02 8.45247328e-01 8.28205943e-01 3.49191163e-04\n",
            " 6.56218767e-01 1.22842729e-01 3.92508868e-04 1.19865350e-02\n",
            " 2.72473339e-02 7.00214587e-05 1.40194548e-03 5.15097976e-02\n",
            " 4.53521818e-01 3.88855506e-06 1.88318029e-01 1.17416240e-01\n",
            " 1.01871872e-02 2.10372764e-05 1.51789382e-01 8.36813590e-04\n",
            " 4.76757348e-01 1.96466618e-03 4.39355910e-01 2.29421421e-03\n",
            " 5.37201377e-05 1.47911131e-01 3.22987069e-03 1.30490621e-03\n",
            " 1.42177204e-02 7.24757192e-05 4.99823713e-04 9.44668591e-01\n",
            " 1.98069483e-01 2.81477213e-01 2.28847653e-01 3.93817902e-01\n",
            " 3.85898538e-02 3.51355910e-01 8.60648677e-02 8.64182830e-01\n",
            " 7.59870529e-01 5.87334871e-01 1.31160559e-04 3.38855773e-01\n",
            " 5.88762225e-04 1.25025567e-02 6.60101950e-01 6.91769958e-01\n",
            " 4.46409127e-03 8.86481553e-02 6.29359901e-01 8.41769159e-01\n",
            " 3.93853188e-01 2.50199903e-03 1.50446510e-02 7.10128527e-03\n",
            " 1.63517703e-04 9.54765975e-02 2.74715596e-03 3.41980346e-03\n",
            " 8.03339422e-01 3.57781261e-01 3.76749299e-02 3.49373964e-04\n",
            " 5.15504088e-03 8.17080975e-01 2.98580676e-02 4.70690953e-04\n",
            " 5.91009669e-03 7.64294714e-02 6.42183051e-02 2.05418348e-01\n",
            " 9.35706422e-02 1.34070329e-02 1.85871229e-01 1.03523163e-02\n",
            " 1.42981410e-01 2.90838867e-01 1.41701559e-02 6.56580925e-02\n",
            " 8.55174065e-02 5.18512796e-04 7.25844502e-01 9.90418368e-04\n",
            " 8.11984420e-01 6.28393590e-02 2.67513096e-03 1.91167381e-03\n",
            " 5.19152265e-03 9.24534816e-03 1.17361136e-02 6.89993394e-05\n",
            " 7.60894418e-01 7.11353356e-03 4.70149852e-02 8.63977194e-01\n",
            " 7.14613197e-05 3.76439467e-02 9.83686566e-01 2.38174684e-02\n",
            " 3.24921221e-01 8.40311050e-02 1.24425264e-02 1.63447985e-03\n",
            " 1.37031034e-01 3.07839946e-05 4.03922277e-05 8.30987096e-03\n",
            " 9.90667008e-03 9.10213113e-01 1.88488156e-01 5.04653864e-02\n",
            " 6.25770450e-01 2.00640989e-06 3.29699297e-03 9.47012042e-04\n",
            " 5.38341561e-03 2.87821138e-04 2.13824547e-04 1.69000332e-03\n",
            " 7.36293733e-01 8.75197589e-01 9.21118855e-01 3.26178316e-03\n",
            " 8.79152000e-01 3.68519217e-01 9.39046498e-04 9.04612780e-01\n",
            " 1.72809735e-02 1.54035434e-01 1.44584373e-01 7.10435271e-01\n",
            " 2.11489554e-02 2.23853698e-04 8.25307593e-02 1.41831741e-01\n",
            " 2.31280640e-01 1.48574859e-01 3.79713655e-01 6.61185695e-05\n",
            " 1.35353757e-02 3.20709139e-01 3.31565678e-01 1.72626262e-03\n",
            " 1.89216004e-03 2.42135495e-01 2.97507167e-01 1.14921249e-01\n",
            " 1.64158300e-01]\n"
          ]
        }
      ]
    },
    {
      "cell_type": "code",
      "source": [
        "test_pred_array = np.array(test_pred_class)\n",
        "pd.crosstab(y_test, test_pred_array, rownames=['Classe réelle'], colnames=['Classe prédite'])"
      ],
      "metadata": {
        "colab": {
          "base_uri": "https://localhost:8080/"
        },
        "id": "58VfgwIPBJoR",
        "outputId": "01c2eee8-23ec-4e2e-9c7e-e785594bc855"
      },
      "execution_count": null,
      "outputs": [
        {
          "output_type": "execute_result",
          "data": {
            "text/plain": [
              "Classe prédite    0   1\n",
              "Classe réelle          \n",
              "0               400  41\n",
              "1                 5  55"
            ],
            "text/html": [
              "\n",
              "  <div id=\"df-cb9d7dbf-cdba-4c5d-ad7c-12a82ca4eeaa\">\n",
              "    <div class=\"colab-df-container\">\n",
              "      <div>\n",
              "<style scoped>\n",
              "    .dataframe tbody tr th:only-of-type {\n",
              "        vertical-align: middle;\n",
              "    }\n",
              "\n",
              "    .dataframe tbody tr th {\n",
              "        vertical-align: top;\n",
              "    }\n",
              "\n",
              "    .dataframe thead th {\n",
              "        text-align: right;\n",
              "    }\n",
              "</style>\n",
              "<table border=\"1\" class=\"dataframe\">\n",
              "  <thead>\n",
              "    <tr style=\"text-align: right;\">\n",
              "      <th>Classe prédite</th>\n",
              "      <th>0</th>\n",
              "      <th>1</th>\n",
              "    </tr>\n",
              "    <tr>\n",
              "      <th>Classe réelle</th>\n",
              "      <th></th>\n",
              "      <th></th>\n",
              "    </tr>\n",
              "  </thead>\n",
              "  <tbody>\n",
              "    <tr>\n",
              "      <th>0</th>\n",
              "      <td>400</td>\n",
              "      <td>41</td>\n",
              "    </tr>\n",
              "    <tr>\n",
              "      <th>1</th>\n",
              "      <td>5</td>\n",
              "      <td>55</td>\n",
              "    </tr>\n",
              "  </tbody>\n",
              "</table>\n",
              "</div>\n",
              "      <button class=\"colab-df-convert\" onclick=\"convertToInteractive('df-cb9d7dbf-cdba-4c5d-ad7c-12a82ca4eeaa')\"\n",
              "              title=\"Convert this dataframe to an interactive table.\"\n",
              "              style=\"display:none;\">\n",
              "        \n",
              "  <svg xmlns=\"http://www.w3.org/2000/svg\" height=\"24px\"viewBox=\"0 0 24 24\"\n",
              "       width=\"24px\">\n",
              "    <path d=\"M0 0h24v24H0V0z\" fill=\"none\"/>\n",
              "    <path d=\"M18.56 5.44l.94 2.06.94-2.06 2.06-.94-2.06-.94-.94-2.06-.94 2.06-2.06.94zm-11 1L8.5 8.5l.94-2.06 2.06-.94-2.06-.94L8.5 2.5l-.94 2.06-2.06.94zm10 10l.94 2.06.94-2.06 2.06-.94-2.06-.94-.94-2.06-.94 2.06-2.06.94z\"/><path d=\"M17.41 7.96l-1.37-1.37c-.4-.4-.92-.59-1.43-.59-.52 0-1.04.2-1.43.59L10.3 9.45l-7.72 7.72c-.78.78-.78 2.05 0 2.83L4 21.41c.39.39.9.59 1.41.59.51 0 1.02-.2 1.41-.59l7.78-7.78 2.81-2.81c.8-.78.8-2.07 0-2.86zM5.41 20L4 18.59l7.72-7.72 1.47 1.35L5.41 20z\"/>\n",
              "  </svg>\n",
              "      </button>\n",
              "      \n",
              "  <style>\n",
              "    .colab-df-container {\n",
              "      display:flex;\n",
              "      flex-wrap:wrap;\n",
              "      gap: 12px;\n",
              "    }\n",
              "\n",
              "    .colab-df-convert {\n",
              "      background-color: #E8F0FE;\n",
              "      border: none;\n",
              "      border-radius: 50%;\n",
              "      cursor: pointer;\n",
              "      display: none;\n",
              "      fill: #1967D2;\n",
              "      height: 32px;\n",
              "      padding: 0 0 0 0;\n",
              "      width: 32px;\n",
              "    }\n",
              "\n",
              "    .colab-df-convert:hover {\n",
              "      background-color: #E2EBFA;\n",
              "      box-shadow: 0px 1px 2px rgba(60, 64, 67, 0.3), 0px 1px 3px 1px rgba(60, 64, 67, 0.15);\n",
              "      fill: #174EA6;\n",
              "    }\n",
              "\n",
              "    [theme=dark] .colab-df-convert {\n",
              "      background-color: #3B4455;\n",
              "      fill: #D2E3FC;\n",
              "    }\n",
              "\n",
              "    [theme=dark] .colab-df-convert:hover {\n",
              "      background-color: #434B5C;\n",
              "      box-shadow: 0px 1px 3px 1px rgba(0, 0, 0, 0.15);\n",
              "      filter: drop-shadow(0px 1px 2px rgba(0, 0, 0, 0.3));\n",
              "      fill: #FFFFFF;\n",
              "    }\n",
              "  </style>\n",
              "\n",
              "      <script>\n",
              "        const buttonEl =\n",
              "          document.querySelector('#df-cb9d7dbf-cdba-4c5d-ad7c-12a82ca4eeaa button.colab-df-convert');\n",
              "        buttonEl.style.display =\n",
              "          google.colab.kernel.accessAllowed ? 'block' : 'none';\n",
              "\n",
              "        async function convertToInteractive(key) {\n",
              "          const element = document.querySelector('#df-cb9d7dbf-cdba-4c5d-ad7c-12a82ca4eeaa');\n",
              "          const dataTable =\n",
              "            await google.colab.kernel.invokeFunction('convertToInteractive',\n",
              "                                                     [key], {});\n",
              "          if (!dataTable) return;\n",
              "\n",
              "          const docLinkHtml = 'Like what you see? Visit the ' +\n",
              "            '<a target=\"_blank\" href=https://colab.research.google.com/notebooks/data_table.ipynb>data table notebook</a>'\n",
              "            + ' to learn more about interactive tables.';\n",
              "          element.innerHTML = '';\n",
              "          dataTable['output_type'] = 'display_data';\n",
              "          await google.colab.output.renderOutput(dataTable, element);\n",
              "          const docLink = document.createElement('div');\n",
              "          docLink.innerHTML = docLinkHtml;\n",
              "          element.appendChild(docLink);\n",
              "        }\n",
              "      </script>\n",
              "    </div>\n",
              "  </div>\n",
              "  "
            ]
          },
          "metadata": {},
          "execution_count": 36
        }
      ]
    },
    {
      "cell_type": "code",
      "source": [
        "#classification\n",
        "from imblearn.metrics import classification_report_imbalanced, geometric_mean_score\n",
        "\n",
        "print(classification_report_imbalanced(y_test, test_pred_class))"
      ],
      "metadata": {
        "colab": {
          "base_uri": "https://localhost:8080/"
        },
        "id": "ZMf-jEFbBNAg",
        "outputId": "8ee5c94d-14c0-440e-b0a1-6d94fc3c47ea"
      },
      "execution_count": null,
      "outputs": [
        {
          "output_type": "stream",
          "name": "stdout",
          "text": [
            "                   pre       rec       spe        f1       geo       iba       sup\n",
            "\n",
            "          0       0.99      0.91      0.92      0.95      0.91      0.83       441\n",
            "          1       0.57      0.92      0.91      0.71      0.91      0.83        60\n",
            "\n",
            "avg / total       0.94      0.91      0.92      0.92      0.91      0.83       501\n",
            "\n"
          ]
        }
      ]
    }
  ]
}