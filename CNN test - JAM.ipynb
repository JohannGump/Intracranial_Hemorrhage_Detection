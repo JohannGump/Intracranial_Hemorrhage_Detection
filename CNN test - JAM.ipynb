{
  "nbformat": 4,
  "nbformat_minor": 0,
  "metadata": {
    "colab": {
      "provenance": []
    },
    "kernelspec": {
      "name": "python3",
      "display_name": "Python 3"
    },
    "language_info": {
      "name": "python"
    }
  },
  "cells": [
    {
      "cell_type": "code",
      "execution_count": null,
      "metadata": {
        "colab": {
          "base_uri": "https://localhost:8080/"
        },
        "id": "7b5h_tW8mSyj",
        "outputId": "090db44f-6652-4dd7-a65c-c339792d899c"
      },
      "outputs": [
        {
          "output_type": "stream",
          "name": "stdout",
          "text": [
            "Drive already mounted at /content/drive; to attempt to forcibly remount, call drive.mount(\"/content/drive\", force_remount=True).\n"
          ]
        }
      ],
      "source": [
        "from google.colab import drive\n",
        "drive.mount('/content/drive')"
      ]
    },
    {
      "cell_type": "code",
      "source": [
        "import numpy as np \n",
        "import pandas as pd\n",
        "from numpy import load\n",
        "\n",
        "import matplotlib.pyplot as plt\n",
        "from matplotlib import cm \n",
        "%matplotlib inline\n",
        "\n",
        "from sklearn.model_selection import train_test_split\n",
        "\n",
        "from tensorflow.keras import regularizers\n",
        "from tensorflow.keras.utils import to_categorical\n",
        "from tensorflow.keras.models import Model, Sequential\n",
        "from tensorflow.keras.layers import Input, Dense, Dropout, Flatten, Conv2D, MaxPooling2D, GlobalAveragePooling2D\n",
        "from tensorflow.keras.optimizers import Adam\n",
        "from tensorflow.keras.optimizers import Adam\n",
        "import tensorflow as tf\n",
        "import time, cv2\n",
        "\n",
        "from tensorflow.keras.preprocessing.image import ImageDataGenerator\n",
        "from tensorflow.keras.applications.vgg16 import preprocess_input\n",
        "from tensorflow.keras.applications.efficientnet import preprocess_input as preprocess_input_efficientnet\n",
        "\n",
        "from tensorflow.keras.applications.vgg16 import VGG16\n",
        "from tensorflow.keras.applications.efficientnet import EfficientNetB3\n",
        "\n",
        "from tensorflow.keras.callbacks import Callback\n",
        "from timeit import default_timer as timer\n",
        "\n",
        "import itertools\n",
        "\n",
        "from sklearn import metrics\n",
        "\n",
        "import seaborn as sns"
      ],
      "metadata": {
        "id": "ECJ1UeSOmTg2"
      },
      "execution_count": null,
      "outputs": []
    },
    {
      "cell_type": "code",
      "source": [
        "'''\n",
        "#generation des données en 100*100\n",
        "\n",
        "#data source\n",
        "hemo = pd.read_csv('/content/drive/My Drive/Projet_AVC/hemorrhage_diagnosis.csv')\n",
        "\n",
        "#regrouper toutes les images dans des vecteurs X_brain et y_brain, X_bone et y_bone\n",
        "X_brain = []\n",
        "X_mask = []\n",
        "\n",
        "for index, row in hemo.iterrows():\n",
        "    \n",
        "    slice_num = str(row.SliceNumber)\n",
        "    \n",
        "    if row['PatientNumber'] < 100:\n",
        "        pt_number = '0'+ str(row['PatientNumber'])\n",
        "    else:\n",
        "        pt_number = str(row['PatientNumber'])\n",
        "    \n",
        "    if (row['No_Hemorrhage'] == 0):\n",
        "        file_mask = '/content/drive/My Drive/Projet_AVC/Patients_CT/'+ pt_number + '/brain/' + slice_num +'_HGE_Seg.jpg'\n",
        "        img_mask = cv2.imread(file_mask, cv2.IMREAD_GRAYSCALE)\n",
        "        img_mask_resized = cv2.resize(img_mask, (150,150), interpolation = cv2.INTER_AREA)\n",
        "        X_mask.append(img_mask_resized)\n",
        "    else:\n",
        "        img_mask = np.zeros((150,150), np.uint8)\n",
        "        X_mask.append(img_mask)\n",
        "        \n",
        "        \n",
        "    file_brain = '/content/drive/My Drive/Projet_AVC/Patients_CT/'+ pt_number + '/brain/' + slice_num +'.jpg'\n",
        "    file_bone = '/content/drive/My Drive/Projet_AVC/Patients_CT/'+ pt_number + '/bone/' + slice_num +'.jpg'\n",
        "    img_brain = cv2.imread(file_brain)\n",
        "    img_brain_resized = cv2.resize(img_brain, (150,150), interpolation = cv2.INTER_AREA)\n",
        "    X_brain.append(img_brain_resized)\n",
        "    \n",
        "X_brain = np.array(X_brain)\n",
        "X_mask = np.array(X_mask)\n",
        "\n",
        "#Save in binary data\n",
        "np.save('/content/drive/My Drive/Colab_outputs/X_brain_150.npy', X_brain)\n",
        "np.save('/content/drive/My Drive/Colab_outputs/X_mask_150.npy', X_mask)"
      ],
      "metadata": {
        "id": "fPgVaUMkmlrz"
      },
      "execution_count": null,
      "outputs": []
    },
    {
      "cell_type": "markdown",
      "source": [
        "On va charger les données en 150x150 car la RAM a tendance à planter en 256x256"
      ],
      "metadata": {
        "id": "toGyFXOED5hf"
      }
    },
    {
      "cell_type": "code",
      "source": [
        "#chargement de X_brain et y_brain\n",
        "np.load.__defaults__=(None, True, True, 'ASCII')\n",
        "\n",
        "X_brain= load('/content/drive/My Drive/Colab_outputs/X_brain_150.npy')\n",
        "y_brain = load('/content/drive/My Drive/Colab_outputs/y_brain.npy')\n",
        "\n",
        "# Shape de X_brain et y_brain\n",
        "print('Shape of X:', X_brain.shape)\n",
        "print('Shape of y:',y_brain.shape)"
      ],
      "metadata": {
        "colab": {
          "base_uri": "https://localhost:8080/"
        },
        "id": "vzxUY40Hnzfm",
        "outputId": "99e1d07b-4d8c-4db1-fa98-6d5e3a286285"
      },
      "execution_count": null,
      "outputs": [
        {
          "output_type": "stream",
          "name": "stdout",
          "text": [
            "Shape of X: (2501, 150, 150, 3)\n",
            "Shape of y: (2501,)\n"
          ]
        }
      ]
    },
    {
      "cell_type": "code",
      "source": [
        "### split des données ###\n",
        "\n",
        "X_train, X_test, y_train, y_test = train_test_split(X_brain, y_brain, test_size=0.2)\n",
        "\n",
        "# Shape de X_train et y_train\n",
        "print('Shape of X:', X_train.shape)\n",
        "print('Shape of y:',y_train.shape)"
      ],
      "metadata": {
        "colab": {
          "base_uri": "https://localhost:8080/"
        },
        "id": "FHTHSqVDrmD2",
        "outputId": "c73ebb9b-c8e1-4ede-a998-a127c7f9a184"
      },
      "execution_count": null,
      "outputs": [
        {
          "output_type": "stream",
          "name": "stdout",
          "text": [
            "Shape of X: (2000, 150, 150, 3)\n",
            "Shape of y: (2000,)\n"
          ]
        }
      ]
    },
    {
      "cell_type": "code",
      "source": [
        "# valeurs comprises entre 0 et 1 et transformation en vecteurs catégoriels binaires\n",
        "\n",
        "X_train = X_train/255\n",
        "X_test = X_test/255"
      ],
      "metadata": {
        "id": "p6nCc5thrzDK"
      },
      "execution_count": null,
      "outputs": []
    },
    {
      "cell_type": "code",
      "source": [
        "X_train[0,...].shape"
      ],
      "metadata": {
        "colab": {
          "base_uri": "https://localhost:8080/"
        },
        "id": "r6FGVcFUCRiV",
        "outputId": "ba9058d7-8ed0-445f-ad0d-79ab954e92e0"
      },
      "execution_count": null,
      "outputs": [
        {
          "output_type": "execute_result",
          "data": {
            "text/plain": [
              "(150, 150, 3)"
            ]
          },
          "metadata": {},
          "execution_count": 6
        }
      ]
    },
    {
      "cell_type": "markdown",
      "source": [
        "Les CNN ont été construit pour traiter de la donnée de type image. Les couches de convolution sont aujourd'hui vues comme les meilleurs extracteurs de features pour des problèmes de classification liés à l'image. Pour la suite, nous utiliserons le modèle Lenet. Et si nécessaire, tenterons d'y apporter quelques optimisations."
      ],
      "metadata": {
        "id": "YLeDqeMy1FDV"
      }
    },
    {
      "cell_type": "code",
      "source": [
        "## Réseau de Neurones Convolutif LeNet5\n",
        "\n",
        "inputs = Input(shape = X_train[0,...].shape)\n",
        "layer1 = Conv2D(filters = 30, kernel_size = (5, 5), padding = 'valid', activation = 'relu')\n",
        "layer2 = MaxPooling2D(pool_size=(2,2))\n",
        "layer3 = Conv2D(filters = 16, kernel_size = (3, 3), padding = 'valid', activation = 'relu')\n",
        "layer4 = MaxPooling2D(pool_size=(2,2))\n",
        "layer5 = Dropout(rate = 0.2)\n",
        "layer6 = Flatten()\n",
        "layer7 = Dense(units=128, activation = 'relu')\n",
        "output_layer = Dense(units=1, activation = 'sigmoid')\n",
        "\n",
        "x = layer1(inputs)\n",
        "x = layer2(x)\n",
        "x = layer3(x)\n",
        "x = layer4(x)\n",
        "x = layer5(x)\n",
        "x = layer6(x)\n",
        "x = layer7(x)\n",
        "outputs = output_layer(x)\n",
        "\n",
        "model = Model(inputs = inputs, outputs = outputs)\n",
        "\n",
        "model.compile(loss = \"binary_crossentropy\",\n",
        "              optimizer = \"adam\",\n",
        "              metrics = [\"accuracy\"])"
      ],
      "metadata": {
        "id": "O-K0K71Us2aT"
      },
      "execution_count": null,
      "outputs": []
    },
    {
      "cell_type": "markdown",
      "source": [
        "Afin d'éviter le surapprentissage nous mettons en place le earlyStopping qui consiste à interrompre le processus prématurément.\n",
        "La description de chaque callback est donnée au dessus"
      ],
      "metadata": {
        "id": "KX3N1iLt-CF0"
      }
    },
    {
      "cell_type": "code",
      "source": [
        "from tensorflow.keras.callbacks import EarlyStopping, ReduceLROnPlateau, ModelCheckpoint\n",
        "\n",
        "EPOCHS = 25\n",
        "\n",
        "# EarlyStopping qui suit la valeur val_loss, arrête l'entraînement s'il n'y a pas de changement vers val_loss après 3 époques et conserve les meilleurs poids une fois que l'entraînement s'arrête\n",
        "early_stopping = EarlyStopping(monitor = 'val_loss',\n",
        "                    min_delta = 0.01,\n",
        "                    mode = 'min',\n",
        "                    patience = 3,\n",
        "                    verbose = 1,\n",
        "                    restore_best_weights = True)\n",
        "\n",
        "#ReduceLROnPlateau qui suit la métrique val_loss, divise le coefficient d'apprentissage par 2 si au bout de 3 epochs, val_loss n'a pas varié de 0.01. \n",
        "#On attribue une pause de 2 epochs entre 2 cycles\n",
        "reduce_learning_rate = ReduceLROnPlateau(monitor = 'val_loss',\n",
        "                        min_delta = 0.01,\n",
        "                        patience = 3,\n",
        "                        factor = 0.5, \n",
        "                        cooldown = 2,\n",
        "                        verbose = 1)\n",
        "\n",
        "# save the best model\n",
        "checkpoint_filepath = '/content/drive/My Drive/Colab_outputs/tmp/checkpoint'\n",
        "\n",
        "model_checkpoint = ModelCheckpoint(\n",
        "                        filepath=checkpoint_filepath,\n",
        "                        save_weights_only=True,\n",
        "                        monitor='val_accuracy',\n",
        "                        mode='max',\n",
        "                        save_best_only=True)\n",
        "\n",
        "training_history_lenet = model.fit(X_train, y_train, epochs = EPOCHS, batch_size = 200, validation_split = 0.2, callbacks=[model_checkpoint, reduce_learning_rate, early_stopping])\n",
        "\n",
        "# The model weights (that are considered the best) are loaded into the model\n",
        "model.load_weights(checkpoint_filepath)"
      ],
      "metadata": {
        "colab": {
          "base_uri": "https://localhost:8080/"
        },
        "id": "D_OrNmI06GeK",
        "outputId": "e7915855-c372-4d50-b79f-968b1b96484c"
      },
      "execution_count": null,
      "outputs": [
        {
          "output_type": "stream",
          "name": "stdout",
          "text": [
            "Epoch 1/25\n",
            "8/8 [==============================] - 60s 7s/step - loss: 0.5149 - accuracy: 0.8431 - val_loss: 0.3207 - val_accuracy: 0.8675 - lr: 0.0010\n",
            "Epoch 2/25\n",
            "8/8 [==============================] - 56s 7s/step - loss: 0.3177 - accuracy: 0.8712 - val_loss: 0.2965 - val_accuracy: 0.8675 - lr: 0.0010\n",
            "Epoch 3/25\n",
            "8/8 [==============================] - 56s 7s/step - loss: 0.2835 - accuracy: 0.8712 - val_loss: 0.2677 - val_accuracy: 0.8675 - lr: 0.0010\n",
            "Epoch 4/25\n",
            "8/8 [==============================] - 57s 7s/step - loss: 0.2633 - accuracy: 0.8712 - val_loss: 0.2485 - val_accuracy: 0.8675 - lr: 0.0010\n",
            "Epoch 5/25\n",
            "8/8 [==============================] - 61s 8s/step - loss: 0.2388 - accuracy: 0.8712 - val_loss: 0.2319 - val_accuracy: 0.8675 - lr: 0.0010\n",
            "Epoch 6/25\n",
            "8/8 [==============================] - 57s 7s/step - loss: 0.2138 - accuracy: 0.8725 - val_loss: 0.2210 - val_accuracy: 0.8750 - lr: 0.0010\n",
            "Epoch 7/25\n",
            "8/8 [==============================] - 56s 7s/step - loss: 0.1936 - accuracy: 0.8988 - val_loss: 0.1976 - val_accuracy: 0.8975 - lr: 0.0010\n",
            "Epoch 8/25\n",
            "8/8 [==============================] - 59s 7s/step - loss: 0.1788 - accuracy: 0.9119 - val_loss: 0.1895 - val_accuracy: 0.9375 - lr: 0.0010\n",
            "Epoch 9/25\n",
            "8/8 [==============================] - 59s 7s/step - loss: 0.1660 - accuracy: 0.9300 - val_loss: 0.1950 - val_accuracy: 0.9475 - lr: 0.0010\n",
            "Epoch 10/25\n",
            "8/8 [==============================] - 68s 9s/step - loss: 0.1585 - accuracy: 0.9394 - val_loss: 0.1600 - val_accuracy: 0.9500 - lr: 0.0010\n",
            "Epoch 11/25\n",
            "8/8 [==============================] - 60s 7s/step - loss: 0.1205 - accuracy: 0.9613 - val_loss: 0.1468 - val_accuracy: 0.9550 - lr: 0.0010\n",
            "Epoch 12/25\n",
            "8/8 [==============================] - 59s 7s/step - loss: 0.0978 - accuracy: 0.9719 - val_loss: 0.1557 - val_accuracy: 0.9375 - lr: 0.0010\n",
            "Epoch 13/25\n",
            "8/8 [==============================] - 58s 7s/step - loss: 0.0702 - accuracy: 0.9800 - val_loss: 0.1731 - val_accuracy: 0.9275 - lr: 0.0010\n",
            "Epoch 14/25\n",
            "8/8 [==============================] - 58s 7s/step - loss: 0.0643 - accuracy: 0.9744 - val_loss: 0.1366 - val_accuracy: 0.9500 - lr: 0.0010\n",
            "Epoch 15/25\n",
            "8/8 [==============================] - 60s 7s/step - loss: 0.0530 - accuracy: 0.9862 - val_loss: 0.1318 - val_accuracy: 0.9525 - lr: 0.0010\n",
            "Epoch 16/25\n",
            "8/8 [==============================] - 58s 7s/step - loss: 0.0370 - accuracy: 0.9919 - val_loss: 0.1344 - val_accuracy: 0.9600 - lr: 0.0010\n",
            "Epoch 17/25\n",
            "8/8 [==============================] - ETA: 0s - loss: 0.0315 - accuracy: 0.9919\n",
            "Epoch 17: ReduceLROnPlateau reducing learning rate to 0.0005000000237487257.\n",
            "Restoring model weights from the end of the best epoch: 14.\n",
            "8/8 [==============================] - 58s 7s/step - loss: 0.0315 - accuracy: 0.9919 - val_loss: 0.1629 - val_accuracy: 0.9450 - lr: 0.0010\n",
            "Epoch 17: early stopping\n"
          ]
        },
        {
          "output_type": "execute_result",
          "data": {
            "text/plain": [
              "<tensorflow.python.checkpoint.checkpoint.CheckpointLoadStatus at 0x7f249b268400>"
            ]
          },
          "metadata": {},
          "execution_count": 17
        }
      ]
    },
    {
      "cell_type": "code",
      "source": [
        "train_acc = training_history_lenet.history['accuracy']\n",
        "val_acc = training_history_lenet.history['val_accuracy']\n",
        "train_loss = training_history_lenet.history['loss']\n",
        "val_loss = training_history_lenet.history['val_loss']"
      ],
      "metadata": {
        "id": "lizNxYPjtZZB"
      },
      "execution_count": null,
      "outputs": []
    },
    {
      "cell_type": "code",
      "source": [
        "# Labels des axes\n",
        "plt.xlabel('Epochs')\n",
        "plt.ylabel('Accuracy')\n",
        "\n",
        "# Courbe de la précision sur l'échantillon d'entrainement\n",
        "plt.plot(np.arange(1 , 18, 1),\n",
        "         train_acc,\n",
        "         label = 'Training Accuracy',\n",
        "         color = 'blue')\n",
        "\n",
        "# Courbe de la précision sur l'échantillon de test\n",
        "plt.plot(np.arange(1 , 18, 1),\n",
        "         val_acc, \n",
        "         label = 'Validation Accuracy',\n",
        "         color = 'red')\n",
        "\n",
        "# Affichage de la légende\n",
        "plt.legend()\n",
        "\n",
        "# Affichage de la figure\n",
        "plt.show()"
      ],
      "metadata": {
        "colab": {
          "base_uri": "https://localhost:8080/",
          "height": 279
        },
        "id": "PjAyLO6Dv-Ca",
        "outputId": "a6d90d15-6e31-4242-ae55-d8d8ee9c317d"
      },
      "execution_count": null,
      "outputs": [
        {
          "output_type": "display_data",
          "data": {
            "text/plain": [
              "<Figure size 432x288 with 1 Axes>"
            ],
            "image/png": "[encoded data removed]"
          },
          "metadata": {
            "needs_background": "light"
          }
        }
      ]
    },
    {
      "cell_type": "code",
      "source": [
        "#prediction \n",
        "test_pred = model.predict(X_test)\n",
        "train_pred = model.predict(X_train)\n",
        "\n",
        "test_pred_class = []\n",
        "\n",
        "for i in test_pred[:,0]:\n",
        "    if i > 0.5:\n",
        "        test_pred_class.append(1)\n",
        "    else:\n",
        "        test_pred_class.append(0)"
      ],
      "metadata": {
        "colab": {
          "base_uri": "https://localhost:8080/"
        },
        "id": "QLbbOYudwG0u",
        "outputId": "07559ebd-d047-4dc1-8d2a-bc5976e306d2"
      },
      "execution_count": null,
      "outputs": [
        {
          "output_type": "stream",
          "name": "stdout",
          "text": [
            "16/16 [==============================] - 4s 255ms/step\n",
            "63/63 [==============================] - 19s 296ms/step\n"
          ]
        }
      ]
    },
    {
      "cell_type": "code",
      "source": [
        "test_pred_array = np.array(test_pred_class)"
      ],
      "metadata": {
        "id": "SI7SHpfUN_0M"
      },
      "execution_count": null,
      "outputs": []
    },
    {
      "cell_type": "code",
      "source": [
        "pd.crosstab(y_test, test_pred_array, rownames=['Classe réelle'], colnames=['Classe prédite'])"
      ],
      "metadata": {
        "colab": {
          "base_uri": "https://localhost:8080/",
          "height": 143
        },
        "id": "-ckqMUbyL9L-",
        "outputId": "813e6f53-7cd6-4ff1-d97b-e61fca72de9d"
      },
      "execution_count": null,
      "outputs": [
        {
          "output_type": "execute_result",
          "data": {
            "text/plain": [
              "Classe prédite    0   1\n",
              "Classe réelle          \n",
              "0               430  12\n",
              "1                14  45"
            ],
            "text/html": [
              "\n",
              "  <div id=\"df-93d348e2-2232-4497-b3cd-511635e8dd4b\">\n",
              "    <div class=\"colab-df-container\">\n",
              "      <div>\n",
              "<style scoped>\n",
              "    .dataframe tbody tr th:only-of-type {\n",
              "        vertical-align: middle;\n",
              "    }\n",
              "\n",
              "    .dataframe tbody tr th {\n",
              "        vertical-align: top;\n",
              "    }\n",
              "\n",
              "    .dataframe thead th {\n",
              "        text-align: right;\n",
              "    }\n",
              "</style>\n",
              "<table border=\"1\" class=\"dataframe\">\n",
              "  <thead>\n",
              "    <tr style=\"text-align: right;\">\n",
              "      <th>Classe prédite</th>\n",
              "      <th>0</th>\n",
              "      <th>1</th>\n",
              "    </tr>\n",
              "    <tr>\n",
              "      <th>Classe réelle</th>\n",
              "      <th></th>\n",
              "      <th></th>\n",
              "    </tr>\n",
              "  </thead>\n",
              "  <tbody>\n",
              "    <tr>\n",
              "      <th>0</th>\n",
              "      <td>430</td>\n",
              "      <td>12</td>\n",
              "    </tr>\n",
              "    <tr>\n",
              "      <th>1</th>\n",
              "      <td>14</td>\n",
              "      <td>45</td>\n",
              "    </tr>\n",
              "  </tbody>\n",
              "</table>\n",
              "</div>\n",
              "      <button class=\"colab-df-convert\" onclick=\"convertToInteractive('df-93d348e2-2232-4497-b3cd-511635e8dd4b')\"\n",
              "              title=\"Convert this dataframe to an interactive table.\"\n",
              "              style=\"display:none;\">\n",
              "        \n",
              "  <svg xmlns=\"http://www.w3.org/2000/svg\" height=\"24px\"viewBox=\"0 0 24 24\"\n",
              "       width=\"24px\">\n",
              "    <path d=\"M0 0h24v24H0V0z\" fill=\"none\"/>\n",
              "    <path d=\"M18.56 5.44l.94 2.06.94-2.06 2.06-.94-2.06-.94-.94-2.06-.94 2.06-2.06.94zm-11 1L8.5 8.5l.94-2.06 2.06-.94-2.06-.94L8.5 2.5l-.94 2.06-2.06.94zm10 10l.94 2.06.94-2.06 2.06-.94-2.06-.94-.94-2.06-.94 2.06-2.06.94z\"/><path d=\"M17.41 7.96l-1.37-1.37c-.4-.4-.92-.59-1.43-.59-.52 0-1.04.2-1.43.59L10.3 9.45l-7.72 7.72c-.78.78-.78 2.05 0 2.83L4 21.41c.39.39.9.59 1.41.59.51 0 1.02-.2 1.41-.59l7.78-7.78 2.81-2.81c.8-.78.8-2.07 0-2.86zM5.41 20L4 18.59l7.72-7.72 1.47 1.35L5.41 20z\"/>\n",
              "  </svg>\n",
              "      </button>\n",
              "      \n",
              "  <style>\n",
              "    .colab-df-container {\n",
              "      display:flex;\n",
              "      flex-wrap:wrap;\n",
              "      gap: 12px;\n",
              "    }\n",
              "\n",
              "    .colab-df-convert {\n",
              "      background-color: #E8F0FE;\n",
              "      border: none;\n",
              "      border-radius: 50%;\n",
              "      cursor: pointer;\n",
              "      display: none;\n",
              "      fill: #1967D2;\n",
              "      height: 32px;\n",
              "      padding: 0 0 0 0;\n",
              "      width: 32px;\n",
              "    }\n",
              "\n",
              "    .colab-df-convert:hover {\n",
              "      background-color: #E2EBFA;\n",
              "      box-shadow: 0px 1px 2px rgba(60, 64, 67, 0.3), 0px 1px 3px 1px rgba(60, 64, 67, 0.15);\n",
              "      fill: #174EA6;\n",
              "    }\n",
              "\n",
              "    [theme=dark] .colab-df-convert {\n",
              "      background-color: #3B4455;\n",
              "      fill: #D2E3FC;\n",
              "    }\n",
              "\n",
              "    [theme=dark] .colab-df-convert:hover {\n",
              "      background-color: #434B5C;\n",
              "      box-shadow: 0px 1px 3px 1px rgba(0, 0, 0, 0.15);\n",
              "      filter: drop-shadow(0px 1px 2px rgba(0, 0, 0, 0.3));\n",
              "      fill: #FFFFFF;\n",
              "    }\n",
              "  </style>\n",
              "\n",
              "      <script>\n",
              "        const buttonEl =\n",
              "          document.querySelector('#df-93d348e2-2232-4497-b3cd-511635e8dd4b button.colab-df-convert');\n",
              "        buttonEl.style.display =\n",
              "          google.colab.kernel.accessAllowed ? 'block' : 'none';\n",
              "\n",
              "        async function convertToInteractive(key) {\n",
              "          const element = document.querySelector('#df-93d348e2-2232-4497-b3cd-511635e8dd4b');\n",
              "          const dataTable =\n",
              "            await google.colab.kernel.invokeFunction('convertToInteractive',\n",
              "                                                     [key], {});\n",
              "          if (!dataTable) return;\n",
              "\n",
              "          const docLinkHtml = 'Like what you see? Visit the ' +\n",
              "            '<a target=\"_blank\" href=https://colab.research.google.com/notebooks/data_table.ipynb>data table notebook</a>'\n",
              "            + ' to learn more about interactive tables.';\n",
              "          element.innerHTML = '';\n",
              "          dataTable['output_type'] = 'display_data';\n",
              "          await google.colab.output.renderOutput(dataTable, element);\n",
              "          const docLink = document.createElement('div');\n",
              "          docLink.innerHTML = docLinkHtml;\n",
              "          element.appendChild(docLink);\n",
              "        }\n",
              "      </script>\n",
              "    </div>\n",
              "  </div>\n",
              "  "
            ]
          },
          "metadata": {},
          "execution_count": 23
        }
      ]
    },
    {
      "cell_type": "code",
      "source": [
        "#classification\n",
        "print(metrics.classification_report(y_test, test_pred_class))"
      ],
      "metadata": {
        "colab": {
          "base_uri": "https://localhost:8080/"
        },
        "id": "wx3snTH9wK3L",
        "outputId": "0e627e75-770e-4628-cdef-f6aa85e81e4f"
      },
      "execution_count": null,
      "outputs": [
        {
          "output_type": "stream",
          "name": "stdout",
          "text": [
            "              precision    recall  f1-score   support\n",
            "\n",
            "           0       0.97      0.97      0.97       442\n",
            "           1       0.79      0.76      0.78        59\n",
            "\n",
            "    accuracy                           0.95       501\n",
            "   macro avg       0.88      0.87      0.87       501\n",
            "weighted avg       0.95      0.95      0.95       501\n",
            "\n"
          ]
        }
      ]
    },
    {
      "cell_type": "code",
      "source": [
        "from imblearn.metrics import classification_report_imbalanced, geometric_mean_score\n",
        "print(classification_report_imbalanced(y_test,test_pred_class))"
      ],
      "metadata": {
        "id": "OOmocfLpDxzs",
        "colab": {
          "base_uri": "https://localhost:8080/"
        },
        "outputId": "a7ad3a15-2bf9-439f-d1c4-17e92cd62a58"
      },
      "execution_count": null,
      "outputs": [
        {
          "output_type": "stream",
          "name": "stdout",
          "text": [
            "                   pre       rec       spe        f1       geo       iba       sup\n",
            "\n",
            "          0       0.97      0.97      0.76      0.97      0.86      0.76       442\n",
            "          1       0.79      0.76      0.97      0.78      0.86      0.73        59\n",
            "\n",
            "avg / total       0.95      0.95      0.79      0.95      0.86      0.75       501\n",
            "\n"
          ]
        }
      ]
    },
    {
      "cell_type": "code",
      "source": [
        "error_indexes = []\n",
        "for i in range(len(test_pred)):\n",
        "    if(test_pred_class[i] != y_test[i]):\n",
        "        error_indexes += [i]\n",
        "\n",
        "j = 1\n",
        "for i in np.random.choice(error_indexes, size = 3):\n",
        "    img = X_test[i]\n",
        "    \n",
        "    plt.subplot(1, 3, j)\n",
        "    j = j + 1\n",
        "    plt.axis('off')\n",
        "    plt.imshow(img,cmap = cm.binary, interpolation='None')\n",
        "    plt.title('True Label: ' + str(y_test[i]) \\\n",
        "              + '\\n' + 'Prediction: '+ str(test_pred_class[i]) \\\n",
        "              + '\\n' + 'Confidence: '+ str(round(test_pred[i][0], 2)))"
      ],
      "metadata": {
        "colab": {
          "base_uri": "https://localhost:8080/",
          "height": 175
        },
        "id": "WqzvX-LKwPXl",
        "outputId": "0d62e763-2373-4593-af8c-a22366e51c1e"
      },
      "execution_count": null,
      "outputs": [
        {
          "output_type": "display_data",
          "data": {
            "text/plain": [
              "<Figure size 432x288 with 3 Axes>"
            ],
            "image/png": "[encoded data removed]"
          },
          "metadata": {
            "needs_background": "light"
          }
        }
      ]
    },
    {
      "cell_type": "code",
      "source": [
        "plt.figure(figsize = (20, 8))\n",
        "\n",
        "plt.subplot(121)\n",
        "plt.plot(train_loss)\n",
        "plt.plot(val_loss)\n",
        "plt.title('Model loss per epoch (MSE)')\n",
        "plt.ylabel('loss')\n",
        "plt.xlabel('epoch')\n",
        "plt.legend(['train', 'test'], loc='right')\n",
        "\n",
        "plt.subplot(122)\n",
        "plt.plot(train_acc)\n",
        "plt.plot(val_acc)\n",
        "plt.title('Model accuracy per epoch (MAE)')\n",
        "plt.ylabel('acc')\n",
        "plt.xlabel('epoch')\n",
        "plt.legend(['train', 'test'], loc='right')\n",
        "\n",
        "plt.show()"
      ],
      "metadata": {
        "colab": {
          "base_uri": "https://localhost:8080/",
          "height": 470
        },
        "id": "3-ohcIwCPuFj",
        "outputId": "f4f6fbc9-115c-44e5-c055-1d50c7298f16"
      },
      "execution_count": null,
      "outputs": [
        {
          "output_type": "display_data",
          "data": {
            "text/plain": [
              "<Figure size 1440x576 with 2 Axes>"
            ],
            "image/png": "[encoded data removed]"
          },
          "metadata": {
            "needs_background": "light"
          }
        }
      ]
    },
    {
      "cell_type": "markdown",
      "source": [
        "L'accuracy et le loss du test suit la tendance de l'apprentissage, ce qui montre que nous ne sommes pas sur un cas de sur-apprentissage et que le modèle est plutôt bon poru ce qu'il doit faire: classifier"
      ],
      "metadata": {
        "id": "xjNYr8lxBWOK"
      }
    },
    {
      "cell_type": "code",
      "source": [
        "import sklearn\n",
        "\n",
        "def plot_roc(name, labels, predictions, **kwargs):\n",
        "  fp, tp, _ = sklearn.metrics.roc_curve(labels, predictions)\n",
        "\n",
        "  plt.plot(100*fp, 100*tp, label=name, linewidth=2, **kwargs)\n",
        "  plt.xlabel('False positives [%]')\n",
        "  plt.ylabel('True positives [%]')\n",
        "  plt.xlim([-0.5,20])\n",
        "  plt.ylim([80,100.5])\n",
        "  plt.grid(True)\n",
        "  ax = plt.gca()\n",
        "  ax.set_aspect('equal')"
      ],
      "metadata": {
        "id": "Spw5Gm9HlHxL"
      },
      "execution_count": null,
      "outputs": []
    },
    {
      "cell_type": "code",
      "source": [
        "plt.figure(figsize = (20, 8))\n",
        "\n",
        "plot_roc(\"Train Baseline\", y_train, train_pred)\n",
        "plot_roc(\"Test Baseline\", y_test, test_pred, linestyle='--')\n",
        "plt.legend(loc='lower right');"
      ],
      "metadata": {
        "colab": {
          "base_uri": "https://localhost:8080/",
          "height": 497
        },
        "id": "IjVE8VjJlRPK",
        "outputId": "2770a607-25c2-422b-f4d5-8780bc913c58"
      },
      "execution_count": null,
      "outputs": [
        {
          "output_type": "display_data",
          "data": {
            "text/plain": [
              "<Figure size 1440x576 with 1 Axes>"
            ],
            "image/png": "[encoded data removed]"
          },
          "metadata": {
            "needs_background": "light"
          }
        }
      ]
    },
    {
      "cell_type": "markdown",
      "source": [
        "Ce graphique (courbe ROC) est utile car il montre, d'un coup d'œil, la plage de performances que le modèle peut atteindre simplement en ajustant le seuil de sortie."
      ],
      "metadata": {
        "id": "JA6UjVKFnc0D"
      }
    },
    {
      "cell_type": "code",
      "source": [
        "def plot_prc(name, labels, predictions, **kwargs):\n",
        "    precision, recall, _ = sklearn.metrics.precision_recall_curve(labels, predictions)\n",
        "\n",
        "    plt.plot(precision, recall, label=name, linewidth=2, **kwargs)\n",
        "    plt.xlabel('Recall')\n",
        "    plt.ylabel('Precision')\n",
        "    plt.grid(True)\n",
        "    ax = plt.gca()\n",
        "    ax.set_aspect('equal')"
      ],
      "metadata": {
        "id": "svINrxJooLJ5"
      },
      "execution_count": null,
      "outputs": []
    },
    {
      "cell_type": "code",
      "source": [
        "plt.figure(figsize = (20, 8))\n",
        "\n",
        "plot_prc(\"Train Baseline\", y_train, train_pred)\n",
        "plot_prc(\"Test Baseline\", y_test, test_pred, linestyle='--')\n",
        "plt.legend(loc='lower right');"
      ],
      "metadata": {
        "colab": {
          "base_uri": "https://localhost:8080/",
          "height": 497
        },
        "id": "oefDpU6ToNLO",
        "outputId": "8a4cb32a-c75b-4f72-9590-2bf9046d59fe"
      },
      "execution_count": null,
      "outputs": [
        {
          "output_type": "display_data",
          "data": {
            "text/plain": [
              "<Figure size 1440x576 with 1 Axes>"
            ],
            "image/png": "[encoded data removed]"
          },
          "metadata": {
            "needs_background": "light"
          }
        }
      ]
    },
    {
      "cell_type": "code",
      "source": [
        "# optimisation par changement initila des poids de chaque classe"
      ],
      "metadata": {
        "id": "5EZL2vqiSQF3"
      },
      "execution_count": null,
      "outputs": []
    },
    {
      "cell_type": "markdown",
      "source": [
        "Bien que dans l'état actuel, le modèle donne des résultats très probants, nous allons vois si nous pouvons encore l'améliorer en modifiant les poids de chaque classe des labels, cad en donnant plus de poids à la présence d'une hémorragie qui est la classe minoritaire."
      ],
      "metadata": {
        "id": "4Yx_AW0fjDdb"
      }
    },
    {
      "cell_type": "code",
      "source": [
        "from sklearn.utils import class_weight\n",
        "\n",
        "class_weights = class_weight.compute_class_weight(class_weight = 'balanced',\n",
        "                                                 classes = np.unique(y_train),\n",
        "                                                 y = y_train)\n",
        "class_weights = {i:w for i,w in enumerate(class_weights)}\n",
        "\n",
        "training_history_lenet_2 = model.fit(X_train, y_train, epochs = EPOCHS, batch_size = 200, validation_split = 0.2, callbacks=[model_checkpoint, reduce_learning_rate, early_stopping], class_weight=class_weights)"
      ],
      "metadata": {
        "colab": {
          "base_uri": "https://localhost:8080/"
        },
        "id": "8ZgLcnr5jlkB",
        "outputId": "1b08709f-ddd3-48b1-c1c0-98b966d4242d"
      },
      "execution_count": null,
      "outputs": [
        {
          "output_type": "stream",
          "name": "stdout",
          "text": [
            "Epoch 1/25\n",
            "8/8 [==============================] - 65s 7s/step - loss: 0.0543 - accuracy: 0.9819 - val_loss: 0.1502 - val_accuracy: 0.9500 - lr: 0.0010\n",
            "Epoch 2/25\n",
            "8/8 [==============================] - 56s 7s/step - loss: 0.0414 - accuracy: 0.9862 - val_loss: 0.1684 - val_accuracy: 0.9525 - lr: 0.0010\n",
            "Epoch 3/25\n",
            "8/8 [==============================] - 64s 8s/step - loss: 0.0475 - accuracy: 0.9862 - val_loss: 0.1928 - val_accuracy: 0.9250 - lr: 0.0010\n",
            "Epoch 4/25\n",
            "8/8 [==============================] - ETA: 0s - loss: 0.0619 - accuracy: 0.9712\n",
            "Epoch 4: ReduceLROnPlateau reducing learning rate to 0.0005000000237487257.\n",
            "Restoring model weights from the end of the best epoch: 1.\n",
            "8/8 [==============================] - 57s 7s/step - loss: 0.0619 - accuracy: 0.9712 - val_loss: 0.2564 - val_accuracy: 0.8925 - lr: 0.0010\n",
            "Epoch 4: early stopping\n"
          ]
        }
      ]
    },
    {
      "cell_type": "code",
      "source": [
        "#prediction \n",
        "test_pred = model.predict(X_test)\n",
        "train_pred = model.predict(X_train)\n",
        "\n",
        "test_pred_class = []\n",
        "\n",
        "for i in test_pred[:,0]:\n",
        "    if i > 0.5:\n",
        "        test_pred_class.append(1)\n",
        "    else:\n",
        "        test_pred_class.append(0)\n",
        "\n",
        "test_pred_array = np.array(test_pred_class)\n",
        "\n",
        "pd.crosstab(y_test, test_pred_array, rownames=['Classe réelle'], colnames=['Classe prédite'])"
      ],
      "metadata": {
        "colab": {
          "base_uri": "https://localhost:8080/",
          "height": 180
        },
        "id": "gdlLD7iqqbRC",
        "outputId": "7b9f97f9-6c78-426c-b1e1-6a733b717f11"
      },
      "execution_count": null,
      "outputs": [
        {
          "output_type": "stream",
          "name": "stdout",
          "text": [
            "16/16 [==============================] - 4s 270ms/step\n",
            "63/63 [==============================] - 19s 292ms/step\n"
          ]
        },
        {
          "output_type": "execute_result",
          "data": {
            "text/plain": [
              "Classe prédite    0   1\n",
              "Classe réelle          \n",
              "0               421  21\n",
              "1                 8  51"
            ],
            "text/html": [
              "\n",
              "  <div id=\"df-1857c282-c485-4ec4-9e27-a94195e3f71c\">\n",
              "    <div class=\"colab-df-container\">\n",
              "      <div>\n",
              "<style scoped>\n",
              "    .dataframe tbody tr th:only-of-type {\n",
              "        vertical-align: middle;\n",
              "    }\n",
              "\n",
              "    .dataframe tbody tr th {\n",
              "        vertical-align: top;\n",
              "    }\n",
              "\n",
              "    .dataframe thead th {\n",
              "        text-align: right;\n",
              "    }\n",
              "</style>\n",
              "<table border=\"1\" class=\"dataframe\">\n",
              "  <thead>\n",
              "    <tr style=\"text-align: right;\">\n",
              "      <th>Classe prédite</th>\n",
              "      <th>0</th>\n",
              "      <th>1</th>\n",
              "    </tr>\n",
              "    <tr>\n",
              "      <th>Classe réelle</th>\n",
              "      <th></th>\n",
              "      <th></th>\n",
              "    </tr>\n",
              "  </thead>\n",
              "  <tbody>\n",
              "    <tr>\n",
              "      <th>0</th>\n",
              "      <td>421</td>\n",
              "      <td>21</td>\n",
              "    </tr>\n",
              "    <tr>\n",
              "      <th>1</th>\n",
              "      <td>8</td>\n",
              "      <td>51</td>\n",
              "    </tr>\n",
              "  </tbody>\n",
              "</table>\n",
              "</div>\n",
              "      <button class=\"colab-df-convert\" onclick=\"convertToInteractive('df-1857c282-c485-4ec4-9e27-a94195e3f71c')\"\n",
              "              title=\"Convert this dataframe to an interactive table.\"\n",
              "              style=\"display:none;\">\n",
              "        \n",
              "  <svg xmlns=\"http://www.w3.org/2000/svg\" height=\"24px\"viewBox=\"0 0 24 24\"\n",
              "       width=\"24px\">\n",
              "    <path d=\"M0 0h24v24H0V0z\" fill=\"none\"/>\n",
              "    <path d=\"M18.56 5.44l.94 2.06.94-2.06 2.06-.94-2.06-.94-.94-2.06-.94 2.06-2.06.94zm-11 1L8.5 8.5l.94-2.06 2.06-.94-2.06-.94L8.5 2.5l-.94 2.06-2.06.94zm10 10l.94 2.06.94-2.06 2.06-.94-2.06-.94-.94-2.06-.94 2.06-2.06.94z\"/><path d=\"M17.41 7.96l-1.37-1.37c-.4-.4-.92-.59-1.43-.59-.52 0-1.04.2-1.43.59L10.3 9.45l-7.72 7.72c-.78.78-.78 2.05 0 2.83L4 21.41c.39.39.9.59 1.41.59.51 0 1.02-.2 1.41-.59l7.78-7.78 2.81-2.81c.8-.78.8-2.07 0-2.86zM5.41 20L4 18.59l7.72-7.72 1.47 1.35L5.41 20z\"/>\n",
              "  </svg>\n",
              "      </button>\n",
              "      \n",
              "  <style>\n",
              "    .colab-df-container {\n",
              "      display:flex;\n",
              "      flex-wrap:wrap;\n",
              "      gap: 12px;\n",
              "    }\n",
              "\n",
              "    .colab-df-convert {\n",
              "      background-color: #E8F0FE;\n",
              "      border: none;\n",
              "      border-radius: 50%;\n",
              "      cursor: pointer;\n",
              "      display: none;\n",
              "      fill: #1967D2;\n",
              "      height: 32px;\n",
              "      padding: 0 0 0 0;\n",
              "      width: 32px;\n",
              "    }\n",
              "\n",
              "    .colab-df-convert:hover {\n",
              "      background-color: #E2EBFA;\n",
              "      box-shadow: 0px 1px 2px rgba(60, 64, 67, 0.3), 0px 1px 3px 1px rgba(60, 64, 67, 0.15);\n",
              "      fill: #174EA6;\n",
              "    }\n",
              "\n",
              "    [theme=dark] .colab-df-convert {\n",
              "      background-color: #3B4455;\n",
              "      fill: #D2E3FC;\n",
              "    }\n",
              "\n",
              "    [theme=dark] .colab-df-convert:hover {\n",
              "      background-color: #434B5C;\n",
              "      box-shadow: 0px 1px 3px 1px rgba(0, 0, 0, 0.15);\n",
              "      filter: drop-shadow(0px 1px 2px rgba(0, 0, 0, 0.3));\n",
              "      fill: #FFFFFF;\n",
              "    }\n",
              "  </style>\n",
              "\n",
              "      <script>\n",
              "        const buttonEl =\n",
              "          document.querySelector('#df-1857c282-c485-4ec4-9e27-a94195e3f71c button.colab-df-convert');\n",
              "        buttonEl.style.display =\n",
              "          google.colab.kernel.accessAllowed ? 'block' : 'none';\n",
              "\n",
              "        async function convertToInteractive(key) {\n",
              "          const element = document.querySelector('#df-1857c282-c485-4ec4-9e27-a94195e3f71c');\n",
              "          const dataTable =\n",
              "            await google.colab.kernel.invokeFunction('convertToInteractive',\n",
              "                                                     [key], {});\n",
              "          if (!dataTable) return;\n",
              "\n",
              "          const docLinkHtml = 'Like what you see? Visit the ' +\n",
              "            '<a target=\"_blank\" href=https://colab.research.google.com/notebooks/data_table.ipynb>data table notebook</a>'\n",
              "            + ' to learn more about interactive tables.';\n",
              "          element.innerHTML = '';\n",
              "          dataTable['output_type'] = 'display_data';\n",
              "          await google.colab.output.renderOutput(dataTable, element);\n",
              "          const docLink = document.createElement('div');\n",
              "          docLink.innerHTML = docLinkHtml;\n",
              "          element.appendChild(docLink);\n",
              "        }\n",
              "      </script>\n",
              "    </div>\n",
              "  </div>\n",
              "  "
            ]
          },
          "metadata": {},
          "execution_count": 36
        }
      ]
    },
    {
      "cell_type": "code",
      "source": [
        "from imblearn.metrics import classification_report_imbalanced, geometric_mean_score\n",
        "print(classification_report_imbalanced(y_test,test_pred_class))"
      ],
      "metadata": {
        "colab": {
          "base_uri": "https://localhost:8080/"
        },
        "id": "-tlq46XCu5B_",
        "outputId": "154f4998-8c19-4806-e430-50ce596186f6"
      },
      "execution_count": null,
      "outputs": [
        {
          "output_type": "stream",
          "name": "stdout",
          "text": [
            "                   pre       rec       spe        f1       geo       iba       sup\n",
            "\n",
            "          0       0.98      0.95      0.86      0.97      0.91      0.83       442\n",
            "          1       0.71      0.86      0.95      0.78      0.91      0.82        59\n",
            "\n",
            "avg / total       0.95      0.94      0.87      0.94      0.91      0.83       501\n",
            "\n"
          ]
        }
      ]
    },
    {
      "cell_type": "markdown",
      "source": [
        "Cela a apporté une amélioration notable, mais perte de précision et de f1-score pour la classe minoritaire."
      ],
      "metadata": {
        "id": "IyVycJ1WvfW3"
      }
    },
    {
      "cell_type": "code",
      "source": [],
      "metadata": {
        "id": "CdCSCVqVvtIQ"
      },
      "execution_count": null,
      "outputs": []
    }
  ]
}