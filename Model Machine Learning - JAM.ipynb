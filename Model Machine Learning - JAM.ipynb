{
  "cells": [
    {
      "cell_type": "code",
      "source": [
        "from google.colab import drive\n",
        "drive.mount('/content/drive')"
      ],
      "metadata": {
        "colab": {
          "base_uri": "https://localhost:8080/"
        },
        "id": "tgyPiXy5qLno",
        "outputId": "300938ae-6c30-46b5-d940-af17aef022c1"
      },
      "id": "tgyPiXy5qLno",
      "execution_count": null,
      "outputs": [
        {
          "output_type": "stream",
          "name": "stdout",
          "text": [
            "Mounted at /content/drive\n"
          ]
        }
      ]
    },
    {
      "cell_type": "code",
      "execution_count": null,
      "id": "403fa6b7",
      "metadata": {
        "id": "403fa6b7"
      },
      "outputs": [],
      "source": [
        "from sklearn.ensemble import VotingClassifier, StackingClassifier\n",
        "from sklearn.model_selection import train_test_split, cross_validate, KFold, GridSearchCV\n",
        "from sklearn.metrics import f1_score\n",
        "from sklearn.linear_model import LogisticRegression\n",
        "from sklearn.ensemble import RandomForestClassifier\n",
        "from sklearn.neighbors import KNeighborsClassifier\n",
        "from sklearn.svm import SVC\n",
        "from sklearn import model_selection, preprocessing\n",
        "from sklearn import metrics\n",
        "import xgboost as xgb\n",
        "\n",
        "import pandas as pd\n",
        "import numpy as np\n",
        "from numpy import load\n",
        "\n",
        "import matplotlib.pyplot as plt\n",
        "from matplotlib.image import imread\n",
        "from matplotlib import offsetbox\n",
        "%matplotlib inline"
      ]
    },
    {
      "cell_type": "code",
      "execution_count": null,
      "id": "6d68d480",
      "metadata": {
        "id": "6d68d480"
      },
      "outputs": [],
      "source": [
        "#### chargement des données ####\n",
        "np.load.__defaults__=(None, True, True, 'ASCII')\n",
        "\n",
        "X_brain= load('/content/drive/My Drive/Colab_outputs/X_brain_256.npy')\n",
        "y_brain = load('/content/drive/My Drive/Colab_outputs/y_brain.npy')\n",
        "\n",
        "X_train_reduced = load('/content/drive/My Drive/Colab_outputs/X_train_reduced_256.npy')\n",
        "y_train = load('/content/drive/My Drive/Colab_outputs/y_train_reduced_256.npy')\n",
        "X_test_reduced = load('/content/drive/My Drive/Colab_outputs/X_test_reduced_256.npy')\n",
        "y_test = load('/content/drive/My Drive/Colab_outputs/y_test_reduced_256.npy')"
      ]
    },
    {
      "cell_type": "markdown",
      "source": [
        "Afin de faire tourner les modèles de classification de machine learning pour ce type de données, il faut réaliser une transformation vectorielle au minimum. Mais aussi, vu le nombre de features qui sont représentées pour une donnée (65 536), et si l'on cherche les meilleurs hyperparamètres qui maximisent les performance de notre modèle, il faut s'attendre à des temps de traitement excessivement longs ! Le choix a donc été fait de prendre les données réduites (cf notebook sur la réduction des données) et de les appliquer à ces modèles."
      ],
      "metadata": {
        "id": "aTkRD_vDb2vQ"
      },
      "id": "aTkRD_vDb2vQ"
    },
    {
      "cell_type": "code",
      "execution_count": null,
      "id": "ce7ce97c",
      "metadata": {
        "colab": {
          "base_uri": "https://localhost:8080/"
        },
        "id": "ce7ce97c",
        "outputId": "d4424f6b-c64c-4c38-f04b-6f2f4747b52d"
      },
      "outputs": [
        {
          "output_type": "execute_result",
          "data": {
            "text/plain": [
              "(2501, 65536)"
            ]
          },
          "metadata": {},
          "execution_count": 6
        }
      ],
      "source": [
        "### on reshape X_brain pour avoir un 2D array (vecteur pour application sur modèle de Machine Learning) ###\n",
        "'''\n",
        "X_brain_rf = X_brain[...,0]\n",
        "#ou means avec -1\n",
        "X_brain_rf = X_brain_rf.reshape([-1,256*256])\n",
        "X_brain_rf.shape"
      ]
    },
    {
      "cell_type": "markdown",
      "source": [
        "Par cette transformation vectorielle, on a (normalement) une perte d'information importante."
      ],
      "metadata": {
        "id": "RkN14036rtve"
      },
      "id": "RkN14036rtve"
    },
    {
      "cell_type": "code",
      "execution_count": null,
      "id": "9cd3d3ce",
      "metadata": {
        "id": "9cd3d3ce"
      },
      "outputs": [],
      "source": [
        "### split des données ###\n",
        "'''\n",
        "X_train, X_test, y_train, y_test = train_test_split(X_brain_rf, y_brain, test_size=0.2)"
      ]
    },
    {
      "cell_type": "code",
      "source": [
        "print(X_train_reduced.shape)\n",
        "print(y_train.shape)\n",
        "print(X_test_reduced.shape)\n",
        "print(y_test.shape)"
      ],
      "metadata": {
        "colab": {
          "base_uri": "https://localhost:8080/"
        },
        "id": "AqcrlODqdMQ-",
        "outputId": "3c2ab4c7-5135-446a-cbb6-c73082b51233"
      },
      "id": "AqcrlODqdMQ-",
      "execution_count": null,
      "outputs": [
        {
          "output_type": "stream",
          "name": "stdout",
          "text": [
            "(2000, 1)\n",
            "(2000,)\n",
            "(501, 1)\n",
            "(501,)\n"
          ]
        }
      ]
    },
    {
      "cell_type": "code",
      "execution_count": null,
      "id": "63c6ffda",
      "metadata": {
        "colab": {
          "base_uri": "https://localhost:8080/"
        },
        "id": "63c6ffda",
        "outputId": "10dbc3df-5983-4416-be58-ae9624aa6e85"
      },
      "outputs": [
        {
          "output_type": "stream",
          "name": "stdout",
          "text": [
            "                                            params  mean_test_score\n",
            "0          {'C': 0.1, 'gamma': 1, 'kernel': 'rbf'}           0.9845\n",
            "1       {'C': 0.1, 'gamma': 1, 'kernel': 'linear'}           0.9850\n",
            "2         {'C': 0.1, 'gamma': 1, 'kernel': 'poly'}           0.9825\n",
            "3        {'C': 0.1, 'gamma': 0.1, 'kernel': 'rbf'}           0.9850\n",
            "4     {'C': 0.1, 'gamma': 0.1, 'kernel': 'linear'}           0.9850\n",
            "5       {'C': 0.1, 'gamma': 0.1, 'kernel': 'poly'}           0.9815\n",
            "6       {'C': 0.1, 'gamma': 0.01, 'kernel': 'rbf'}           0.9830\n",
            "7    {'C': 0.1, 'gamma': 0.01, 'kernel': 'linear'}           0.9850\n",
            "8      {'C': 0.1, 'gamma': 0.01, 'kernel': 'poly'}           0.9185\n",
            "9      {'C': 0.1, 'gamma': 0.001, 'kernel': 'rbf'}           0.9635\n",
            "10  {'C': 0.1, 'gamma': 0.001, 'kernel': 'linear'}           0.9850\n",
            "11    {'C': 0.1, 'gamma': 0.001, 'kernel': 'poly'}           0.8720\n",
            "12           {'C': 1, 'gamma': 1, 'kernel': 'rbf'}           0.9860\n",
            "13        {'C': 1, 'gamma': 1, 'kernel': 'linear'}           0.9855\n",
            "14          {'C': 1, 'gamma': 1, 'kernel': 'poly'}           0.9825\n",
            "15         {'C': 1, 'gamma': 0.1, 'kernel': 'rbf'}           0.9845\n",
            "16      {'C': 1, 'gamma': 0.1, 'kernel': 'linear'}           0.9855\n",
            "17        {'C': 1, 'gamma': 0.1, 'kernel': 'poly'}           0.9830\n",
            "18        {'C': 1, 'gamma': 0.01, 'kernel': 'rbf'}           0.9850\n",
            "19     {'C': 1, 'gamma': 0.01, 'kernel': 'linear'}           0.9855\n",
            "20       {'C': 1, 'gamma': 0.01, 'kernel': 'poly'}           0.9700\n",
            "21       {'C': 1, 'gamma': 0.001, 'kernel': 'rbf'}           0.9825\n",
            "22    {'C': 1, 'gamma': 0.001, 'kernel': 'linear'}           0.9855\n",
            "23      {'C': 1, 'gamma': 0.001, 'kernel': 'poly'}           0.8720\n",
            "24          {'C': 10, 'gamma': 1, 'kernel': 'rbf'}           0.9865\n",
            "25       {'C': 10, 'gamma': 1, 'kernel': 'linear'}           0.9855\n",
            "26         {'C': 10, 'gamma': 1, 'kernel': 'poly'}           0.9825\n",
            "27        {'C': 10, 'gamma': 0.1, 'kernel': 'rbf'}           0.9845\n",
            "28     {'C': 10, 'gamma': 0.1, 'kernel': 'linear'}           0.9855\n",
            "29       {'C': 10, 'gamma': 0.1, 'kernel': 'poly'}           0.9825\n",
            "30       {'C': 10, 'gamma': 0.01, 'kernel': 'rbf'}           0.9850\n",
            "31    {'C': 10, 'gamma': 0.01, 'kernel': 'linear'}           0.9855\n",
            "32      {'C': 10, 'gamma': 0.01, 'kernel': 'poly'}           0.9785\n",
            "33      {'C': 10, 'gamma': 0.001, 'kernel': 'rbf'}           0.9850\n",
            "34   {'C': 10, 'gamma': 0.001, 'kernel': 'linear'}           0.9855\n",
            "35     {'C': 10, 'gamma': 0.001, 'kernel': 'poly'}           0.8720\n"
          ]
        }
      ],
      "source": [
        "###########################\n",
        "##      Modèle SVM       ##\n",
        "###########################\n",
        "\n",
        "params = {'C':[0.1,1,10], \n",
        "              'kernel': ['rbf', 'linear','poly'],\n",
        "              'gamma':[1,0.1,0.01,0.001]}\n",
        "\n",
        "grid = GridSearchCV(estimator=SVC(), param_grid=params, cv=5)\n",
        "grid = grid.fit(X_train_reduced, y_train)\n",
        "print(pd.DataFrame.from_dict(grid.cv_results_).loc[:,['params', 'mean_test_score']]) "
      ]
    },
    {
      "cell_type": "code",
      "execution_count": null,
      "id": "bcd02552",
      "metadata": {
        "colab": {
          "base_uri": "https://localhost:8080/"
        },
        "id": "bcd02552",
        "outputId": "c8d1a4b6-b13c-4819-c60e-abd3ec2a77ee"
      },
      "outputs": [
        {
          "output_type": "execute_result",
          "data": {
            "text/plain": [
              "{'C': 10, 'gamma': 1, 'kernel': 'rbf'}"
            ]
          },
          "metadata": {},
          "execution_count": 6
        }
      ],
      "source": [
        "grid.best_params_"
      ]
    },
    {
      "cell_type": "code",
      "execution_count": null,
      "id": "b0eb0c70",
      "metadata": {
        "colab": {
          "base_uri": "https://localhost:8080/",
          "height": 143
        },
        "id": "b0eb0c70",
        "outputId": "e5d8286c-ff97-4217-979f-d024a5c90423"
      },
      "outputs": [
        {
          "output_type": "execute_result",
          "data": {
            "text/plain": [
              "Classe prédite    0   1\n",
              "Classe réelle          \n",
              "0               423  16\n",
              "1                16  46"
            ],
            "text/html": [
              "\n",
              "  <div id=\"df-3782b17b-97e5-4aa1-94fc-566b6e742126\">\n",
              "    <div class=\"colab-df-container\">\n",
              "      <div>\n",
              "<style scoped>\n",
              "    .dataframe tbody tr th:only-of-type {\n",
              "        vertical-align: middle;\n",
              "    }\n",
              "\n",
              "    .dataframe tbody tr th {\n",
              "        vertical-align: top;\n",
              "    }\n",
              "\n",
              "    .dataframe thead th {\n",
              "        text-align: right;\n",
              "    }\n",
              "</style>\n",
              "<table border=\"1\" class=\"dataframe\">\n",
              "  <thead>\n",
              "    <tr style=\"text-align: right;\">\n",
              "      <th>Classe prédite</th>\n",
              "      <th>0</th>\n",
              "      <th>1</th>\n",
              "    </tr>\n",
              "    <tr>\n",
              "      <th>Classe réelle</th>\n",
              "      <th></th>\n",
              "      <th></th>\n",
              "    </tr>\n",
              "  </thead>\n",
              "  <tbody>\n",
              "    <tr>\n",
              "      <th>0</th>\n",
              "      <td>423</td>\n",
              "      <td>16</td>\n",
              "    </tr>\n",
              "    <tr>\n",
              "      <th>1</th>\n",
              "      <td>16</td>\n",
              "      <td>46</td>\n",
              "    </tr>\n",
              "  </tbody>\n",
              "</table>\n",
              "</div>\n",
              "      <button class=\"colab-df-convert\" onclick=\"convertToInteractive('df-3782b17b-97e5-4aa1-94fc-566b6e742126')\"\n",
              "              title=\"Convert this dataframe to an interactive table.\"\n",
              "              style=\"display:none;\">\n",
              "        \n",
              "  <svg xmlns=\"http://www.w3.org/2000/svg\" height=\"24px\"viewBox=\"0 0 24 24\"\n",
              "       width=\"24px\">\n",
              "    <path d=\"M0 0h24v24H0V0z\" fill=\"none\"/>\n",
              "    <path d=\"M18.56 5.44l.94 2.06.94-2.06 2.06-.94-2.06-.94-.94-2.06-.94 2.06-2.06.94zm-11 1L8.5 8.5l.94-2.06 2.06-.94-2.06-.94L8.5 2.5l-.94 2.06-2.06.94zm10 10l.94 2.06.94-2.06 2.06-.94-2.06-.94-.94-2.06-.94 2.06-2.06.94z\"/><path d=\"M17.41 7.96l-1.37-1.37c-.4-.4-.92-.59-1.43-.59-.52 0-1.04.2-1.43.59L10.3 9.45l-7.72 7.72c-.78.78-.78 2.05 0 2.83L4 21.41c.39.39.9.59 1.41.59.51 0 1.02-.2 1.41-.59l7.78-7.78 2.81-2.81c.8-.78.8-2.07 0-2.86zM5.41 20L4 18.59l7.72-7.72 1.47 1.35L5.41 20z\"/>\n",
              "  </svg>\n",
              "      </button>\n",
              "      \n",
              "  <style>\n",
              "    .colab-df-container {\n",
              "      display:flex;\n",
              "      flex-wrap:wrap;\n",
              "      gap: 12px;\n",
              "    }\n",
              "\n",
              "    .colab-df-convert {\n",
              "      background-color: #E8F0FE;\n",
              "      border: none;\n",
              "      border-radius: 50%;\n",
              "      cursor: pointer;\n",
              "      display: none;\n",
              "      fill: #1967D2;\n",
              "      height: 32px;\n",
              "      padding: 0 0 0 0;\n",
              "      width: 32px;\n",
              "    }\n",
              "\n",
              "    .colab-df-convert:hover {\n",
              "      background-color: #E2EBFA;\n",
              "      box-shadow: 0px 1px 2px rgba(60, 64, 67, 0.3), 0px 1px 3px 1px rgba(60, 64, 67, 0.15);\n",
              "      fill: #174EA6;\n",
              "    }\n",
              "\n",
              "    [theme=dark] .colab-df-convert {\n",
              "      background-color: #3B4455;\n",
              "      fill: #D2E3FC;\n",
              "    }\n",
              "\n",
              "    [theme=dark] .colab-df-convert:hover {\n",
              "      background-color: #434B5C;\n",
              "      box-shadow: 0px 1px 3px 1px rgba(0, 0, 0, 0.15);\n",
              "      filter: drop-shadow(0px 1px 2px rgba(0, 0, 0, 0.3));\n",
              "      fill: #FFFFFF;\n",
              "    }\n",
              "  </style>\n",
              "\n",
              "      <script>\n",
              "        const buttonEl =\n",
              "          document.querySelector('#df-3782b17b-97e5-4aa1-94fc-566b6e742126 button.colab-df-convert');\n",
              "        buttonEl.style.display =\n",
              "          google.colab.kernel.accessAllowed ? 'block' : 'none';\n",
              "\n",
              "        async function convertToInteractive(key) {\n",
              "          const element = document.querySelector('#df-3782b17b-97e5-4aa1-94fc-566b6e742126');\n",
              "          const dataTable =\n",
              "            await google.colab.kernel.invokeFunction('convertToInteractive',\n",
              "                                                     [key], {});\n",
              "          if (!dataTable) return;\n",
              "\n",
              "          const docLinkHtml = 'Like what you see? Visit the ' +\n",
              "            '<a target=\"_blank\" href=https://colab.research.google.com/notebooks/data_table.ipynb>data table notebook</a>'\n",
              "            + ' to learn more about interactive tables.';\n",
              "          element.innerHTML = '';\n",
              "          dataTable['output_type'] = 'display_data';\n",
              "          await google.colab.output.renderOutput(dataTable, element);\n",
              "          const docLink = document.createElement('div');\n",
              "          docLink.innerHTML = docLinkHtml;\n",
              "          element.appendChild(docLink);\n",
              "        }\n",
              "      </script>\n",
              "    </div>\n",
              "  </div>\n",
              "  "
            ]
          },
          "metadata": {},
          "execution_count": 9
        }
      ],
      "source": [
        "y_pred =grid.predict(X_test_reduced)\n",
        "\n",
        "pd.crosstab(y_test, y_pred, rownames=['Classe réelle'], colnames=['Classe prédite'])"
      ]
    },
    {
      "cell_type": "code",
      "execution_count": null,
      "id": "05bff355",
      "metadata": {
        "colab": {
          "base_uri": "https://localhost:8080/"
        },
        "id": "05bff355",
        "outputId": "83b72c18-e23b-4551-f9da-5c0fefff909e"
      },
      "outputs": [
        {
          "output_type": "stream",
          "name": "stdout",
          "text": [
            "                   pre       rec       spe        f1       geo       iba       sup\n",
            "\n",
            "          0       0.96      0.96      0.74      0.96      0.85      0.73       439\n",
            "          1       0.74      0.74      0.96      0.74      0.85      0.70        62\n",
            "\n",
            "avg / total       0.94      0.94      0.77      0.94      0.85      0.73       501\n",
            "\n"
          ]
        }
      ],
      "source": [
        "from imblearn.metrics import classification_report_imbalanced, geometric_mean_score\n",
        "\n",
        "print (classification_report_imbalanced(y_test, y_pred))"
      ]
    },
    {
      "cell_type": "markdown",
      "source": [
        "Le f1-score est une des métriques très utilisée pour juger de la performance d'un modèle quand il y a déséquilibre de classe, ce qui est le cas ici (p=318/2501). Le résultat est largement acceptable sur ce que renvoit ce type de modèle, sachant que l'on a une perte d'information dû à la vectorisation dans un premier temps et à la réduction des données dans un second, et donc de la vitesse de calcul de l'ensemble. pour rappel: https://train.datascientest.com/hub/johann_ambrugeat@yahoo.fr/notebooks/135/440\n",
        "\n",
        "Le F1-score permet de mesurer la précision et le rappel à la fois. Une autre métrique, la moyenne géometrique (geometric mean), s'avère utile pour les problèmes de classification déséquilibrée : il s'agit de la racine du produit de la sensibilité et de la spécificité, qui est ici très acceptable également."
      ],
      "metadata": {
        "id": "IdACxF1OhRws"
      },
      "id": "IdACxF1OhRws"
    },
    {
      "cell_type": "code",
      "execution_count": null,
      "id": "09860b25",
      "metadata": {
        "colab": {
          "base_uri": "https://localhost:8080/"
        },
        "id": "09860b25",
        "outputId": "36c8308b-f445-4f22-8bd3-426bc697ffd3"
      },
      "outputs": [
        {
          "output_type": "stream",
          "name": "stdout",
          "text": [
            "                                         params  mean_test_score\n",
            "0     {'metric': 'manhattan', 'n_neighbors': 0}              NaN\n",
            "1     {'metric': 'manhattan', 'n_neighbors': 1}           0.9780\n",
            "2     {'metric': 'manhattan', 'n_neighbors': 2}           0.9755\n",
            "3     {'metric': 'manhattan', 'n_neighbors': 3}           0.9830\n",
            "4     {'metric': 'manhattan', 'n_neighbors': 4}           0.9815\n",
            "..                                          ...              ...\n",
            "115  {'metric': 'chebyshev', 'n_neighbors': 35}           0.9855\n",
            "116  {'metric': 'chebyshev', 'n_neighbors': 36}           0.9845\n",
            "117  {'metric': 'chebyshev', 'n_neighbors': 37}           0.9850\n",
            "118  {'metric': 'chebyshev', 'n_neighbors': 38}           0.9850\n",
            "119  {'metric': 'chebyshev', 'n_neighbors': 39}           0.9855\n",
            "\n",
            "[120 rows x 2 columns]\n"
          ]
        },
        {
          "output_type": "stream",
          "name": "stderr",
          "text": [
            "/usr/local/lib/python3.8/dist-packages/sklearn/model_selection/_validation.py:372: FitFailedWarning: \n",
            "15 fits failed out of a total of 600.\n",
            "The score on these train-test partitions for these parameters will be set to nan.\n",
            "If these failures are not expected, you can try to debug them by setting error_score='raise'.\n",
            "\n",
            "Below are more details about the failures:\n",
            "--------------------------------------------------------------------------------\n",
            "15 fits failed with the following error:\n",
            "Traceback (most recent call last):\n",
            "  File \"/usr/local/lib/python3.8/dist-packages/sklearn/model_selection/_validation.py\", line 680, in _fit_and_score\n",
            "    estimator.fit(X_train, y_train, **fit_params)\n",
            "  File \"/usr/local/lib/python3.8/dist-packages/sklearn/neighbors/_classification.py\", line 198, in fit\n",
            "    return self._fit(X, y)\n",
            "  File \"/usr/local/lib/python3.8/dist-packages/sklearn/neighbors/_base.py\", line 569, in _fit\n",
            "    raise ValueError(\"Expected n_neighbors > 0. Got %d\" % self.n_neighbors)\n",
            "ValueError: Expected n_neighbors > 0. Got 0\n",
            "\n",
            "  warnings.warn(some_fits_failed_message, FitFailedWarning)\n",
            "/usr/local/lib/python3.8/dist-packages/sklearn/model_selection/_search.py:969: UserWarning: One or more of the test scores are non-finite: [   nan 0.978  0.9755 0.983  0.9815 0.985  0.983  0.985  0.9845 0.9845\n",
            " 0.9845 0.985  0.9855 0.986  0.986  0.986  0.986  0.9855 0.985  0.9855\n",
            " 0.9855 0.9845 0.9855 0.986  0.987  0.9865 0.986  0.9865 0.9865 0.987\n",
            " 0.9855 0.9855 0.985  0.985  0.9845 0.9855 0.9845 0.985  0.985  0.9855\n",
            "    nan 0.978  0.9755 0.983  0.9815 0.985  0.983  0.985  0.9845 0.9845\n",
            " 0.9845 0.985  0.9855 0.986  0.986  0.986  0.986  0.9855 0.985  0.9855\n",
            " 0.9855 0.9845 0.9855 0.986  0.987  0.9865 0.986  0.9865 0.9865 0.987\n",
            " 0.9855 0.9855 0.985  0.985  0.9845 0.9855 0.9845 0.985  0.985  0.9855\n",
            "    nan 0.978  0.9755 0.983  0.9815 0.985  0.983  0.985  0.9845 0.9845\n",
            " 0.9845 0.985  0.9855 0.986  0.986  0.986  0.986  0.9855 0.985  0.9855\n",
            " 0.9855 0.9845 0.9855 0.986  0.987  0.9865 0.986  0.9865 0.9865 0.987\n",
            " 0.9855 0.9855 0.985  0.985  0.9845 0.9855 0.9845 0.985  0.985  0.9855]\n",
            "  warnings.warn(\n"
          ]
        }
      ],
      "source": [
        "###########################\n",
        "##      Modèle KNN       ##\n",
        "###########################\n",
        "\n",
        "params = {'n_neighbors':[i for i in range(40)], \n",
        "              'metric': ['manhattan', 'minkowski','chebyshev']}\n",
        "\n",
        "grid = GridSearchCV(estimator=KNeighborsClassifier(), param_grid=params, cv=5)\n",
        "grid = grid.fit(X_train_reduced, y_train)\n",
        "print(pd.DataFrame.from_dict(grid.cv_results_).loc[:,['params', 'mean_test_score']]) "
      ]
    },
    {
      "cell_type": "code",
      "execution_count": null,
      "id": "733bef3a",
      "metadata": {
        "colab": {
          "base_uri": "https://localhost:8080/"
        },
        "id": "733bef3a",
        "outputId": "158702a5-99a5-42ee-8005-701ff55f7d1c"
      },
      "outputs": [
        {
          "output_type": "execute_result",
          "data": {
            "text/plain": [
              "{'metric': 'manhattan', 'n_neighbors': 24}"
            ]
          },
          "metadata": {},
          "execution_count": 30
        }
      ],
      "source": [
        "grid.best_params_"
      ]
    },
    {
      "cell_type": "code",
      "execution_count": null,
      "id": "1f666655",
      "metadata": {
        "colab": {
          "base_uri": "https://localhost:8080/",
          "height": 143
        },
        "id": "1f666655",
        "outputId": "fb689621-a7d0-4644-e003-ba255fc87684"
      },
      "outputs": [
        {
          "output_type": "execute_result",
          "data": {
            "text/plain": [
              "Classe prédite    0   1\n",
              "Classe réelle          \n",
              "0               423  16\n",
              "1                16  46"
            ],
            "text/html": [
              "\n",
              "  <div id=\"df-68587b81-f134-4ced-a353-53686ff575c5\">\n",
              "    <div class=\"colab-df-container\">\n",
              "      <div>\n",
              "<style scoped>\n",
              "    .dataframe tbody tr th:only-of-type {\n",
              "        vertical-align: middle;\n",
              "    }\n",
              "\n",
              "    .dataframe tbody tr th {\n",
              "        vertical-align: top;\n",
              "    }\n",
              "\n",
              "    .dataframe thead th {\n",
              "        text-align: right;\n",
              "    }\n",
              "</style>\n",
              "<table border=\"1\" class=\"dataframe\">\n",
              "  <thead>\n",
              "    <tr style=\"text-align: right;\">\n",
              "      <th>Classe prédite</th>\n",
              "      <th>0</th>\n",
              "      <th>1</th>\n",
              "    </tr>\n",
              "    <tr>\n",
              "      <th>Classe réelle</th>\n",
              "      <th></th>\n",
              "      <th></th>\n",
              "    </tr>\n",
              "  </thead>\n",
              "  <tbody>\n",
              "    <tr>\n",
              "      <th>0</th>\n",
              "      <td>423</td>\n",
              "      <td>16</td>\n",
              "    </tr>\n",
              "    <tr>\n",
              "      <th>1</th>\n",
              "      <td>16</td>\n",
              "      <td>46</td>\n",
              "    </tr>\n",
              "  </tbody>\n",
              "</table>\n",
              "</div>\n",
              "      <button class=\"colab-df-convert\" onclick=\"convertToInteractive('df-68587b81-f134-4ced-a353-53686ff575c5')\"\n",
              "              title=\"Convert this dataframe to an interactive table.\"\n",
              "              style=\"display:none;\">\n",
              "        \n",
              "  <svg xmlns=\"http://www.w3.org/2000/svg\" height=\"24px\"viewBox=\"0 0 24 24\"\n",
              "       width=\"24px\">\n",
              "    <path d=\"M0 0h24v24H0V0z\" fill=\"none\"/>\n",
              "    <path d=\"M18.56 5.44l.94 2.06.94-2.06 2.06-.94-2.06-.94-.94-2.06-.94 2.06-2.06.94zm-11 1L8.5 8.5l.94-2.06 2.06-.94-2.06-.94L8.5 2.5l-.94 2.06-2.06.94zm10 10l.94 2.06.94-2.06 2.06-.94-2.06-.94-.94-2.06-.94 2.06-2.06.94z\"/><path d=\"M17.41 7.96l-1.37-1.37c-.4-.4-.92-.59-1.43-.59-.52 0-1.04.2-1.43.59L10.3 9.45l-7.72 7.72c-.78.78-.78 2.05 0 2.83L4 21.41c.39.39.9.59 1.41.59.51 0 1.02-.2 1.41-.59l7.78-7.78 2.81-2.81c.8-.78.8-2.07 0-2.86zM5.41 20L4 18.59l7.72-7.72 1.47 1.35L5.41 20z\"/>\n",
              "  </svg>\n",
              "      </button>\n",
              "      \n",
              "  <style>\n",
              "    .colab-df-container {\n",
              "      display:flex;\n",
              "      flex-wrap:wrap;\n",
              "      gap: 12px;\n",
              "    }\n",
              "\n",
              "    .colab-df-convert {\n",
              "      background-color: #E8F0FE;\n",
              "      border: none;\n",
              "      border-radius: 50%;\n",
              "      cursor: pointer;\n",
              "      display: none;\n",
              "      fill: #1967D2;\n",
              "      height: 32px;\n",
              "      padding: 0 0 0 0;\n",
              "      width: 32px;\n",
              "    }\n",
              "\n",
              "    .colab-df-convert:hover {\n",
              "      background-color: #E2EBFA;\n",
              "      box-shadow: 0px 1px 2px rgba(60, 64, 67, 0.3), 0px 1px 3px 1px rgba(60, 64, 67, 0.15);\n",
              "      fill: #174EA6;\n",
              "    }\n",
              "\n",
              "    [theme=dark] .colab-df-convert {\n",
              "      background-color: #3B4455;\n",
              "      fill: #D2E3FC;\n",
              "    }\n",
              "\n",
              "    [theme=dark] .colab-df-convert:hover {\n",
              "      background-color: #434B5C;\n",
              "      box-shadow: 0px 1px 3px 1px rgba(0, 0, 0, 0.15);\n",
              "      filter: drop-shadow(0px 1px 2px rgba(0, 0, 0, 0.3));\n",
              "      fill: #FFFFFF;\n",
              "    }\n",
              "  </style>\n",
              "\n",
              "      <script>\n",
              "        const buttonEl =\n",
              "          document.querySelector('#df-68587b81-f134-4ced-a353-53686ff575c5 button.colab-df-convert');\n",
              "        buttonEl.style.display =\n",
              "          google.colab.kernel.accessAllowed ? 'block' : 'none';\n",
              "\n",
              "        async function convertToInteractive(key) {\n",
              "          const element = document.querySelector('#df-68587b81-f134-4ced-a353-53686ff575c5');\n",
              "          const dataTable =\n",
              "            await google.colab.kernel.invokeFunction('convertToInteractive',\n",
              "                                                     [key], {});\n",
              "          if (!dataTable) return;\n",
              "\n",
              "          const docLinkHtml = 'Like what you see? Visit the ' +\n",
              "            '<a target=\"_blank\" href=https://colab.research.google.com/notebooks/data_table.ipynb>data table notebook</a>'\n",
              "            + ' to learn more about interactive tables.';\n",
              "          element.innerHTML = '';\n",
              "          dataTable['output_type'] = 'display_data';\n",
              "          await google.colab.output.renderOutput(dataTable, element);\n",
              "          const docLink = document.createElement('div');\n",
              "          docLink.innerHTML = docLinkHtml;\n",
              "          element.appendChild(docLink);\n",
              "        }\n",
              "      </script>\n",
              "    </div>\n",
              "  </div>\n",
              "  "
            ]
          },
          "metadata": {},
          "execution_count": 31
        }
      ],
      "source": [
        "y_pred =grid.predict(X_test_reduced)\n",
        "\n",
        "pd.crosstab(y_test, y_pred, rownames=['Classe réelle'], colnames=['Classe prédite'])"
      ]
    },
    {
      "cell_type": "code",
      "source": [
        "print(classification_report_imbalanced(y_test, y_pred))"
      ],
      "metadata": {
        "colab": {
          "base_uri": "https://localhost:8080/"
        },
        "id": "Pj1I-zpTfCN7",
        "outputId": "08281575-fac1-462b-bcf4-a7bf3e36c4ac"
      },
      "id": "Pj1I-zpTfCN7",
      "execution_count": null,
      "outputs": [
        {
          "output_type": "stream",
          "name": "stdout",
          "text": [
            "                   pre       rec       spe        f1       geo       iba       sup\n",
            "\n",
            "          0       0.96      0.96      0.74      0.96      0.85      0.73       439\n",
            "          1       0.74      0.74      0.96      0.74      0.85      0.70        62\n",
            "\n",
            "avg / total       0.94      0.94      0.77      0.94      0.85      0.73       501\n",
            "\n"
          ]
        }
      ]
    },
    {
      "cell_type": "markdown",
      "source": [
        "Même remarque que précédemment, les scores sont identiques"
      ],
      "metadata": {
        "id": "xpqK4HXmfctO"
      },
      "id": "xpqK4HXmfctO"
    },
    {
      "cell_type": "code",
      "execution_count": null,
      "id": "6a05dec9",
      "metadata": {
        "colab": {
          "base_uri": "https://localhost:8080/",
          "height": 143
        },
        "id": "6a05dec9",
        "outputId": "28dd37d2-848e-44c6-9ad5-734bc652abd8"
      },
      "outputs": [
        {
          "output_type": "execute_result",
          "data": {
            "text/plain": [
              "Classe prédite    0   1\n",
              "Classe réelle          \n",
              "0               416  23\n",
              "1                19  43"
            ],
            "text/html": [
              "\n",
              "  <div id=\"df-da2278b9-ba44-4226-b248-d03ceed6bad2\">\n",
              "    <div class=\"colab-df-container\">\n",
              "      <div>\n",
              "<style scoped>\n",
              "    .dataframe tbody tr th:only-of-type {\n",
              "        vertical-align: middle;\n",
              "    }\n",
              "\n",
              "    .dataframe tbody tr th {\n",
              "        vertical-align: top;\n",
              "    }\n",
              "\n",
              "    .dataframe thead th {\n",
              "        text-align: right;\n",
              "    }\n",
              "</style>\n",
              "<table border=\"1\" class=\"dataframe\">\n",
              "  <thead>\n",
              "    <tr style=\"text-align: right;\">\n",
              "      <th>Classe prédite</th>\n",
              "      <th>0</th>\n",
              "      <th>1</th>\n",
              "    </tr>\n",
              "    <tr>\n",
              "      <th>Classe réelle</th>\n",
              "      <th></th>\n",
              "      <th></th>\n",
              "    </tr>\n",
              "  </thead>\n",
              "  <tbody>\n",
              "    <tr>\n",
              "      <th>0</th>\n",
              "      <td>416</td>\n",
              "      <td>23</td>\n",
              "    </tr>\n",
              "    <tr>\n",
              "      <th>1</th>\n",
              "      <td>19</td>\n",
              "      <td>43</td>\n",
              "    </tr>\n",
              "  </tbody>\n",
              "</table>\n",
              "</div>\n",
              "      <button class=\"colab-df-convert\" onclick=\"convertToInteractive('df-da2278b9-ba44-4226-b248-d03ceed6bad2')\"\n",
              "              title=\"Convert this dataframe to an interactive table.\"\n",
              "              style=\"display:none;\">\n",
              "        \n",
              "  <svg xmlns=\"http://www.w3.org/2000/svg\" height=\"24px\"viewBox=\"0 0 24 24\"\n",
              "       width=\"24px\">\n",
              "    <path d=\"M0 0h24v24H0V0z\" fill=\"none\"/>\n",
              "    <path d=\"M18.56 5.44l.94 2.06.94-2.06 2.06-.94-2.06-.94-.94-2.06-.94 2.06-2.06.94zm-11 1L8.5 8.5l.94-2.06 2.06-.94-2.06-.94L8.5 2.5l-.94 2.06-2.06.94zm10 10l.94 2.06.94-2.06 2.06-.94-2.06-.94-.94-2.06-.94 2.06-2.06.94z\"/><path d=\"M17.41 7.96l-1.37-1.37c-.4-.4-.92-.59-1.43-.59-.52 0-1.04.2-1.43.59L10.3 9.45l-7.72 7.72c-.78.78-.78 2.05 0 2.83L4 21.41c.39.39.9.59 1.41.59.51 0 1.02-.2 1.41-.59l7.78-7.78 2.81-2.81c.8-.78.8-2.07 0-2.86zM5.41 20L4 18.59l7.72-7.72 1.47 1.35L5.41 20z\"/>\n",
              "  </svg>\n",
              "      </button>\n",
              "      \n",
              "  <style>\n",
              "    .colab-df-container {\n",
              "      display:flex;\n",
              "      flex-wrap:wrap;\n",
              "      gap: 12px;\n",
              "    }\n",
              "\n",
              "    .colab-df-convert {\n",
              "      background-color: #E8F0FE;\n",
              "      border: none;\n",
              "      border-radius: 50%;\n",
              "      cursor: pointer;\n",
              "      display: none;\n",
              "      fill: #1967D2;\n",
              "      height: 32px;\n",
              "      padding: 0 0 0 0;\n",
              "      width: 32px;\n",
              "    }\n",
              "\n",
              "    .colab-df-convert:hover {\n",
              "      background-color: #E2EBFA;\n",
              "      box-shadow: 0px 1px 2px rgba(60, 64, 67, 0.3), 0px 1px 3px 1px rgba(60, 64, 67, 0.15);\n",
              "      fill: #174EA6;\n",
              "    }\n",
              "\n",
              "    [theme=dark] .colab-df-convert {\n",
              "      background-color: #3B4455;\n",
              "      fill: #D2E3FC;\n",
              "    }\n",
              "\n",
              "    [theme=dark] .colab-df-convert:hover {\n",
              "      background-color: #434B5C;\n",
              "      box-shadow: 0px 1px 3px 1px rgba(0, 0, 0, 0.15);\n",
              "      filter: drop-shadow(0px 1px 2px rgba(0, 0, 0, 0.3));\n",
              "      fill: #FFFFFF;\n",
              "    }\n",
              "  </style>\n",
              "\n",
              "      <script>\n",
              "        const buttonEl =\n",
              "          document.querySelector('#df-da2278b9-ba44-4226-b248-d03ceed6bad2 button.colab-df-convert');\n",
              "        buttonEl.style.display =\n",
              "          google.colab.kernel.accessAllowed ? 'block' : 'none';\n",
              "\n",
              "        async function convertToInteractive(key) {\n",
              "          const element = document.querySelector('#df-da2278b9-ba44-4226-b248-d03ceed6bad2');\n",
              "          const dataTable =\n",
              "            await google.colab.kernel.invokeFunction('convertToInteractive',\n",
              "                                                     [key], {});\n",
              "          if (!dataTable) return;\n",
              "\n",
              "          const docLinkHtml = 'Like what you see? Visit the ' +\n",
              "            '<a target=\"_blank\" href=https://colab.research.google.com/notebooks/data_table.ipynb>data table notebook</a>'\n",
              "            + ' to learn more about interactive tables.';\n",
              "          element.innerHTML = '';\n",
              "          dataTable['output_type'] = 'display_data';\n",
              "          await google.colab.output.renderOutput(dataTable, element);\n",
              "          const docLink = document.createElement('div');\n",
              "          docLink.innerHTML = docLinkHtml;\n",
              "          element.appendChild(docLink);\n",
              "        }\n",
              "      </script>\n",
              "    </div>\n",
              "  </div>\n",
              "  "
            ]
          },
          "metadata": {},
          "execution_count": 33
        }
      ],
      "source": [
        "###########################\n",
        "##      Random Forest    ##\n",
        "###########################\n",
        "\n",
        "clf = RandomForestClassifier(n_jobs=-1, random_state=321)\n",
        "clf.fit(X_train_reduced, y_train)\n",
        "y_pred = clf.predict(X_test_reduced)\n",
        "pd.crosstab(y_test, y_pred, rownames=['Classe réelle'], colnames=['Classe prédite'])"
      ]
    },
    {
      "cell_type": "code",
      "execution_count": null,
      "id": "62dee2db",
      "metadata": {
        "colab": {
          "base_uri": "https://localhost:8080/"
        },
        "id": "62dee2db",
        "outputId": "3a8a9924-ecc7-4178-ad7b-462718835548"
      },
      "outputs": [
        {
          "output_type": "stream",
          "name": "stdout",
          "text": [
            "                   pre       rec       spe        f1       geo       iba       sup\n",
            "\n",
            "          0       0.96      0.95      0.69      0.95      0.81      0.67       439\n",
            "          1       0.65      0.69      0.95      0.67      0.81      0.64        62\n",
            "\n",
            "avg / total       0.92      0.92      0.72      0.92      0.81      0.67       501\n",
            "\n"
          ]
        }
      ],
      "source": [
        "print(classification_report_imbalanced(y_test, y_pred))"
      ]
    },
    {
      "cell_type": "markdown",
      "source": [
        "Les résultats sont un peu moins bons qu'avec les précédents modèles"
      ],
      "metadata": {
        "id": "003d6e47"
      },
      "id": "003d6e47"
    },
    {
      "cell_type": "code",
      "source": [
        "pip install scikit-plot"
      ],
      "metadata": {
        "colab": {
          "base_uri": "https://localhost:8080/"
        },
        "id": "CGPnMQ4Ci8hx",
        "outputId": "1ad36421-5801-4a9d-b1e7-6d0c5ef4ae38"
      },
      "id": "CGPnMQ4Ci8hx",
      "execution_count": null,
      "outputs": [
        {
          "output_type": "stream",
          "name": "stdout",
          "text": [
            "Looking in indexes: https://pypi.org/simple, https://us-python.pkg.dev/colab-wheels/public/simple/\n",
            "Collecting scikit-plot\n",
            "  Downloading scikit_plot-0.3.7-py3-none-any.whl (33 kB)\n",
            "Requirement already satisfied: joblib>=0.10 in /usr/local/lib/python3.8/dist-packages (from scikit-plot) (1.2.0)\n",
            "Requirement already satisfied: matplotlib>=1.4.0 in /usr/local/lib/python3.8/dist-packages (from scikit-plot) (3.2.2)\n",
            "Requirement already satisfied: scikit-learn>=0.18 in /usr/local/lib/python3.8/dist-packages (from scikit-plot) (1.0.2)\n",
            "Requirement already satisfied: scipy>=0.9 in /usr/local/lib/python3.8/dist-packages (from scikit-plot) (1.7.3)\n",
            "Requirement already satisfied: kiwisolver>=1.0.1 in /usr/local/lib/python3.8/dist-packages (from matplotlib>=1.4.0->scikit-plot) (1.4.4)\n",
            "Requirement already satisfied: python-dateutil>=2.1 in /usr/local/lib/python3.8/dist-packages (from matplotlib>=1.4.0->scikit-plot) (2.8.2)\n",
            "Requirement already satisfied: pyparsing!=2.0.4,!=2.1.2,!=2.1.6,>=2.0.1 in /usr/local/lib/python3.8/dist-packages (from matplotlib>=1.4.0->scikit-plot) (3.0.9)\n",
            "Requirement already satisfied: cycler>=0.10 in /usr/local/lib/python3.8/dist-packages (from matplotlib>=1.4.0->scikit-plot) (0.11.0)\n",
            "Requirement already satisfied: numpy>=1.11 in /usr/local/lib/python3.8/dist-packages (from matplotlib>=1.4.0->scikit-plot) (1.21.6)\n",
            "Requirement already satisfied: threadpoolctl>=2.0.0 in /usr/local/lib/python3.8/dist-packages (from scikit-learn>=0.18->scikit-plot) (3.1.0)\n",
            "Requirement already satisfied: six>=1.5 in /usr/local/lib/python3.8/dist-packages (from python-dateutil>=2.1->matplotlib>=1.4.0->scikit-plot) (1.15.0)\n",
            "Installing collected packages: scikit-plot\n",
            "Successfully installed scikit-plot-0.3.7\n"
          ]
        }
      ]
    },
    {
      "cell_type": "code",
      "execution_count": null,
      "id": "ee29492b",
      "metadata": {
        "scrolled": false,
        "colab": {
          "base_uri": "https://localhost:8080/",
          "height": 513
        },
        "id": "ee29492b",
        "outputId": "bfc9dc63-ba11-48b9-a82c-b6978bb5f40a"
      },
      "outputs": [
        {
          "output_type": "display_data",
          "data": {
            "text/plain": [
              "<Figure size 864x576 with 1 Axes>"
            ],
            "image/png": "[encoded data removed]"
          },
          "metadata": {
            "needs_background": "light"
          }
        }
      ],
      "source": [
        "import scikitplot as skplt\n",
        "\n",
        "y_probas = clf.predict_proba(X_test_reduced)\n",
        "skplt.metrics.plot_cumulative_gain(y_test, y_probas, figsize=(12,8))\n",
        "plt.show()"
      ]
    },
    {
      "cell_type": "markdown",
      "source": [
        "Cela montre qu'avec 20% des images avec la plus forte proba de présenter une hémorragie, environ 90% des hémorragies \n",
        "peuvent être prédites. N'a pas trop de sens dans le cadre de cette étude"
      ],
      "metadata": {
        "id": "cce69a32"
      },
      "id": "cce69a32"
    },
    {
      "cell_type": "code",
      "source": [],
      "metadata": {
        "id": "fI9R5oOFvVsS"
      },
      "id": "fI9R5oOFvVsS",
      "execution_count": null,
      "outputs": []
    }
  ],
  "metadata": {
    "kernelspec": {
      "display_name": "Python 3 (ipykernel)",
      "language": "python",
      "name": "python3"
    },
    "language_info": {
      "codemirror_mode": {
        "name": "ipython",
        "version": 3
      },
      "file_extension": ".py",
      "mimetype": "text/x-python",
      "name": "python",
      "nbconvert_exporter": "python",
      "pygments_lexer": "ipython3",
      "version": "3.9.12"
    },
    "colab": {
      "provenance": []
    }
  },
  "nbformat": 4,
  "nbformat_minor": 5
}